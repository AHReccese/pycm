{
 "cells": [
  {
   "cell_type": "markdown",
   "metadata": {},
   "source": [
    "<p  style=\"z-index: 101;background: #fde073;text-align: center;line-height: 2.5;overflow: hidden;font-size:22px;\">Please <a href=\"https://www.pycm.ir/doc/#Cite\" target=\"_blank\">cite us</a> if you use the software</p>"
   ]
  },
  {
   "cell_type": "markdown",
   "metadata": {},
   "source": [
    "# Example-3 (Activation threshold)"
   ]
  },
  {
   "cell_type": "markdown",
   "metadata": {},
   "source": [
    "## Environment check"
   ]
  },
  {
   "cell_type": "markdown",
   "metadata": {},
   "source": [
    "Checking that the notebook is running on Google Colab or not."
   ]
  },
  {
   "cell_type": "code",
   "execution_count": 1,
   "metadata": {},
   "outputs": [],
   "source": [
    "import sys\n",
    "try:\n",
    "  import google.colab\n",
    "  !{sys.executable} -m pip -q -q install pycm\n",
    "except:\n",
    "  pass"
   ]
  },
  {
   "cell_type": "markdown",
   "metadata": {},
   "source": [
    "## Binary classification"
   ]
  },
  {
   "cell_type": "code",
   "execution_count": 2,
   "metadata": {},
   "outputs": [],
   "source": [
    "from pycm import ConfusionMatrix\n",
    "\n",
    "def activation1(i):\n",
    "    if i<0.75:\n",
    "        return 1\n",
    "    else:\n",
    "        return 0"
   ]
  },
  {
   "cell_type": "code",
   "execution_count": 3,
   "metadata": {},
   "outputs": [],
   "source": [
    "y_actual = [1,1,0,1,1,0]\n",
    "y_pred = [0.65,0.34,0.80,0.54,0.32,0.12]"
   ]
  },
  {
   "cell_type": "code",
   "execution_count": 4,
   "metadata": {},
   "outputs": [
    {
     "output_type": "execute_result",
     "data": {
      "text/plain": "[0, 1]"
     },
     "metadata": {},
     "execution_count": 4
    }
   ],
   "source": [
    "cm = ConfusionMatrix(y_actual,y_pred,threshold=activation1)\n",
    "cm.classes"
   ]
  },
  {
   "cell_type": "code",
   "execution_count": 5,
   "metadata": {
    "tags": []
   },
   "outputs": [
    {
     "output_type": "stream",
     "name": "stdout",
     "text": "Predict 0       1       \nActual\n0       1       1       \n\n1       0       4       \n\n\n\n\n\nOverall Statistics : \n\n95% CI                                                            (0.53513,1.13154)\nACC Macro                                                         0.83333\nARI                                                               0.34783\nAUNP                                                              0.75\nAUNU                                                              0.75\nBangdiwala B                                                      0.77273\nBennett S                                                         0.66667\nCBA                                                               0.65\nCSI                                                               0.65\nChi-Squared                                                       2.4\nChi-Squared DF                                                    1\nConditional Entropy                                               0.33333\nCramer V                                                          0.63246\nCross Entropy                                                     1.03701\nF1 Macro                                                          0.77778\nF1 Micro                                                          0.83333\nFNR Macro                                                         0.25\nFNR Micro                                                         0.16667\nFPR Macro                                                         0.25\nFPR Micro                                                         0.16667\nGwet AC1                                                          0.73333\nHamming Loss                                                      0.16667\nJoint Entropy                                                     1.25163\nKL Divergence                                                     0.11871\nKappa                                                             0.57143\nKappa 95% CI                                                      (-0.19538,1.33824)\nKappa No Prevalence                                               0.66667\nKappa Standard Error                                              0.39123\nKappa Unbiased                                                    0.55556\nKrippendorff Alpha                                                0.59259\nLambda A                                                          0.5\nLambda B                                                          0.0\nMutual Information                                                0.31669\nNIR                                                               0.66667\nOverall ACC                                                       0.83333\nOverall CEN                                                       0.39624\nOverall J                                                         (1.3,0.65)\nOverall MCC                                                       0.63246\nOverall MCEN                                                      0.27683\nOverall RACC                                                      0.61111\nOverall RACCU                                                     0.625\nP-Value                                                           0.35117\nPPV Macro                                                         0.9\nPPV Micro                                                         0.83333\nPearson C                                                         0.53452\nPhi-Squared                                                       0.4\nRCI                                                               0.34487\nRR                                                                3.0\nReference Entropy                                                 0.9183\nResponse Entropy                                                  0.65002\nSOA1(Landis & Koch)                                               Moderate\nSOA2(Fleiss)                                                      Intermediate to Good\nSOA3(Altman)                                                      Moderate\nSOA4(Cicchetti)                                                   Fair\nSOA5(Cramer)                                                      Strong\nSOA6(Matthews)                                                    Moderate\nScott PI                                                          0.55556\nStandard Error                                                    0.15215\nTNR Macro                                                         0.75\nTNR Micro                                                         0.83333\nTPR Macro                                                         0.75\nTPR Micro                                                         0.83333\nZero-one Loss                                                     1\n\nClass Statistics :\n\nClasses                                                           0             1             \nACC(Accuracy)                                                     0.83333       0.83333       \nAGF(Adjusted F-score)                                             0.68041       0.89087       \nAGM(Adjusted geometric mean)                                      0.82426       0.65533       \nAM(Difference between automatic and manual classification)        -1            1             \nAUC(Area under the ROC curve)                                     0.75          0.75          \nAUCI(AUC value interpretation)                                    Good          Good          \nAUPR(Area under the PR curve)                                     0.75          0.9           \nBCD(Bray-Curtis dissimilarity)                                    0.08333       0.08333       \nBM(Informedness or bookmaker informedness)                        0.5           0.5           \nCEN(Confusion entropy)                                            0.52832       0.35221       \nDOR(Diagnostic odds ratio)                                        None          None          \nDP(Discriminant power)                                            None          None          \nDPI(Discriminant power interpretation)                            None          None          \nERR(Error rate)                                                   0.16667       0.16667       \nF0.5(F0.5 score)                                                  0.83333       0.83333       \nF1(F1 score - harmonic mean of precision and sensitivity)         0.66667       0.88889       \nF2(F2 score)                                                      0.55556       0.95238       \nFDR(False discovery rate)                                         0.0           0.2           \nFN(False negative/miss/type 2 error)                              1             0             \nFNR(Miss rate or false negative rate)                             0.5           0.0           \nFOR(False omission rate)                                          0.2           0.0           \nFP(False positive/type 1 error/false alarm)                       0             1             \nFPR(Fall-out or false positive rate)                              0.0           0.5           \nG(G-measure geometric mean of precision and sensitivity)          0.70711       0.89443       \nGI(Gini index)                                                    0.5           0.5           \nGM(G-mean geometric mean of specificity and sensitivity)          0.70711       0.70711       \nIBA(Index of balanced accuracy)                                   0.25          0.75          \nICSI(Individual classification success index)                     0.5           0.8           \nIS(Information score)                                             1.58496       0.26303       \nJ(Jaccard index)                                                  0.5           0.8           \nLS(Lift score)                                                    3.0           1.2           \nMCC(Matthews correlation coefficient)                             0.63246       0.63246       \nMCCI(Matthews correlation coefficient interpretation)             Moderate      Moderate      \nMCEN(Modified confusion entropy)                                  0.5           0.46439       \nMK(Markedness)                                                    0.8           0.8           \nN(Condition negative)                                             4             2             \nNLR(Negative likelihood ratio)                                    0.5           0.0           \nNLRI(Negative likelihood ratio interpretation)                    Negligible    Good          \nNPV(Negative predictive value)                                    0.8           1.0           \nOC(Overlap coefficient)                                           1.0           1.0           \nOOC(Otsuka-Ochiai coefficient)                                    0.70711       0.89443       \nOP(Optimized precision)                                           0.5           0.5           \nP(Condition positive or support)                                  2             4             \nPLR(Positive likelihood ratio)                                    None          2.0           \nPLRI(Positive likelihood ratio interpretation)                    None          Poor          \nPOP(Population)                                                   6             6             \nPPV(Precision or positive predictive value)                       1.0           0.8           \nPRE(Prevalence)                                                   0.33333       0.66667       \nQ(Yule Q - coefficient of colligation)                            None          None          \nQI(Yule Q interpretation)                                         None          None          \nRACC(Random accuracy)                                             0.05556       0.55556       \nRACCU(Random accuracy unbiased)                                   0.0625        0.5625        \nTN(True negative/correct rejection)                               4             1             \nTNR(Specificity or true negative rate)                            1.0           0.5           \nTON(Test outcome negative)                                        5             1             \nTOP(Test outcome positive)                                        1             5             \nTP(True positive/hit)                                             1             4             \nTPR(Sensitivity, recall, hit rate, or true positive rate)         0.5           1.0           \nY(Youden index)                                                   0.5           0.5           \ndInd(Distance index)                                              0.5           0.5           \nsInd(Similarity index)                                            0.64645       0.64645       \n\n"
    }
   ],
   "source": [
    "print(cm)"
   ]
  },
  {
   "cell_type": "markdown",
   "metadata": {},
   "source": [
    "## Multiclass classification"
   ]
  },
  {
   "cell_type": "code",
   "execution_count": 6,
   "metadata": {},
   "outputs": [],
   "source": [
    "def activation2(i):\n",
    "    ref = [\"cat\",\"dog\",\"ship\"]\n",
    "    return ref[i.index(max(i))]"
   ]
  },
  {
   "cell_type": "code",
   "execution_count": 7,
   "metadata": {},
   "outputs": [],
   "source": [
    "y_actual = [\"ship\",\"cat\",\"dog\",\"cat\",\"dog\",\"ship\"]\n",
    "y_pred = [[0.08, 0.39, 0.53], [0.77, 0.22, 0.01], [0.5, 0.45, 0.05], [0.7, 0.17, 0.13], [0.28, 0.72, 0.0], [0.12, 0.03, 0.85]]"
   ]
  },
  {
   "cell_type": "code",
   "execution_count": 8,
   "metadata": {},
   "outputs": [
    {
     "output_type": "execute_result",
     "data": {
      "text/plain": "['cat', 'dog', 'ship']"
     },
     "metadata": {},
     "execution_count": 8
    }
   ],
   "source": [
    "cm2 = ConfusionMatrix(y_actual,y_pred,threshold=activation2)\n",
    "cm2.classes"
   ]
  },
  {
   "cell_type": "code",
   "execution_count": 9,
   "metadata": {
    "tags": []
   },
   "outputs": [
    {
     "output_type": "stream",
     "name": "stdout",
     "text": "Predict    cat        dog        ship       \nActual\ncat        2          0          0          \n\ndog        1          1          0          \n\nship       0          0          2          \n\n\n\n\n\nOverall Statistics : \n\n95% CI                                                            (0.53513,1.13154)\nACC Macro                                                         0.88889\nARI                                                               0.44444\nAUNP                                                              0.875\nAUNU                                                              0.875\nBangdiwala B                                                      0.75\nBennett S                                                         0.75\nCBA                                                               0.72222\nCSI                                                               0.72222\nChi-Squared                                                       8.0\nChi-Squared DF                                                    4\nConditional Entropy                                               0.33333\nCramer V                                                          0.8165\nCross Entropy                                                     1.72331\nF1 Macro                                                          0.82222\nF1 Micro                                                          0.83333\nFNR Macro                                                         0.16667\nFNR Micro                                                         0.16667\nFPR Macro                                                         0.08333\nFPR Micro                                                         0.08333\nGwet AC1                                                          0.75258\nHamming Loss                                                      0.16667\nJoint Entropy                                                     1.9183\nKL Divergence                                                     0.13835\nKappa                                                             0.75\nKappa 95% CI                                                      (0.30269,1.19731)\nKappa No Prevalence                                               0.66667\nKappa Standard Error                                              0.22822\nKappa Unbiased                                                    0.74468\nKrippendorff Alpha                                                0.76596\nLambda A                                                          0.75\nLambda B                                                          0.66667\nMutual Information                                                1.12581\nNIR                                                               0.33333\nOverall ACC                                                       0.83333\nOverall CEN                                                       0.16279\nOverall J                                                         (2.16667,0.72222)\nOverall MCC                                                       0.78335\nOverall MCEN                                                      0.18464\nOverall RACC                                                      0.33333\nOverall RACCU                                                     0.34722\nP-Value                                                           0.01783\nPPV Macro                                                         0.88889\nPPV Micro                                                         0.83333\nPearson C                                                         0.75593\nPhi-Squared                                                       1.33333\nRCI                                                               0.71031\nRR                                                                2.0\nReference Entropy                                                 1.58496\nResponse Entropy                                                  1.45915\nSOA1(Landis & Koch)                                               Substantial\nSOA2(Fleiss)                                                      Intermediate to Good\nSOA3(Altman)                                                      Good\nSOA4(Cicchetti)                                                   Excellent\nSOA5(Cramer)                                                      Very Strong\nSOA6(Matthews)                                                    Strong\nScott PI                                                          0.74468\nStandard Error                                                    0.15215\nTNR Macro                                                         0.91667\nTNR Micro                                                         0.91667\nTPR Macro                                                         0.83333\nTPR Micro                                                         0.83333\nZero-one Loss                                                     1\n\nClass Statistics :\n\nClasses                                                           cat           dog           ship          \nACC(Accuracy)                                                     0.83333       0.83333       1.0           \nAGF(Adjusted F-score)                                             0.92319       0.68041       1.0           \nAGM(Adjusted geometric mean)                                      0.81962       0.82426       1.0           \nAM(Difference between automatic and manual classification)        1             -1            0             \nAUC(Area under the ROC curve)                                     0.875         0.75          1.0           \nAUCI(AUC value interpretation)                                    Very Good     Good          Excellent     \nAUPR(Area under the PR curve)                                     0.83333       0.75          1.0           \nBCD(Bray-Curtis dissimilarity)                                    0.08333       0.08333       0.0           \nBM(Informedness or bookmaker informedness)                        0.75          0.5           1.0           \nCEN(Confusion entropy)                                            0.23219       0.26416       0             \nDOR(Diagnostic odds ratio)                                        None          None          None          \nDP(Discriminant power)                                            None          None          None          \nDPI(Discriminant power interpretation)                            None          None          None          \nERR(Error rate)                                                   0.16667       0.16667       0.0           \nF0.5(F0.5 score)                                                  0.71429       0.83333       1.0           \nF1(F1 score - harmonic mean of precision and sensitivity)         0.8           0.66667       1.0           \nF2(F2 score)                                                      0.90909       0.55556       1.0           \nFDR(False discovery rate)                                         0.33333       0.0           0.0           \nFN(False negative/miss/type 2 error)                              0             1             0             \nFNR(Miss rate or false negative rate)                             0.0           0.5           0.0           \nFOR(False omission rate)                                          0.0           0.2           0.0           \nFP(False positive/type 1 error/false alarm)                       1             0             0             \nFPR(Fall-out or false positive rate)                              0.25          0.0           0.0           \nG(G-measure geometric mean of precision and sensitivity)          0.8165        0.70711       1.0           \nGI(Gini index)                                                    0.75          0.5           1.0           \nGM(G-mean geometric mean of specificity and sensitivity)          0.86603       0.70711       1.0           \nIBA(Index of balanced accuracy)                                   0.9375        0.25          1.0           \nICSI(Individual classification success index)                     0.66667       0.5           1.0           \nIS(Information score)                                             1.0           1.58496       1.58496       \nJ(Jaccard index)                                                  0.66667       0.5           1.0           \nLS(Lift score)                                                    2.0           3.0           3.0           \nMCC(Matthews correlation coefficient)                             0.70711       0.63246       1.0           \nMCCI(Matthews correlation coefficient interpretation)             Strong        Moderate      Very Strong   \nMCEN(Modified confusion entropy)                                  0.26416       0.25          0             \nMK(Markedness)                                                    0.66667       0.8           1.0           \nN(Condition negative)                                             4             4             4             \nNLR(Negative likelihood ratio)                                    0.0           0.5           0.0           \nNLRI(Negative likelihood ratio interpretation)                    Good          Negligible    Good          \nNPV(Negative predictive value)                                    1.0           0.8           1.0           \nOC(Overlap coefficient)                                           1.0           1.0           1.0           \nOOC(Otsuka-Ochiai coefficient)                                    0.8165        0.70711       1.0           \nOP(Optimized precision)                                           0.69048       0.5           1.0           \nP(Condition positive or support)                                  2             2             2             \nPLR(Positive likelihood ratio)                                    4.0           None          None          \nPLRI(Positive likelihood ratio interpretation)                    Poor          None          None          \nPOP(Population)                                                   6             6             6             \nPPV(Precision or positive predictive value)                       0.66667       1.0           1.0           \nPRE(Prevalence)                                                   0.33333       0.33333       0.33333       \nQ(Yule Q - coefficient of colligation)                            None          None          None          \nQI(Yule Q interpretation)                                         None          None          None          \nRACC(Random accuracy)                                             0.16667       0.05556       0.11111       \nRACCU(Random accuracy unbiased)                                   0.17361       0.0625        0.11111       \nTN(True negative/correct rejection)                               3             4             4             \nTNR(Specificity or true negative rate)                            0.75          1.0           1.0           \nTON(Test outcome negative)                                        3             5             4             \nTOP(Test outcome positive)                                        3             1             2             \nTP(True positive/hit)                                             2             1             2             \nTPR(Sensitivity, recall, hit rate, or true positive rate)         1.0           0.5           1.0           \nY(Youden index)                                                   0.75          0.5           1.0           \ndInd(Distance index)                                              0.25          0.5           0.0           \nsInd(Similarity index)                                            0.82322       0.64645       1.0           \n\n"
    }
   ],
   "source": [
    "print(cm2)"
   ]
  }
 ],
 "metadata": {
  "kernelspec": {
   "display_name": "Python 3",
   "language": "python",
   "name": "python3"
  },
  "language_info": {
   "codemirror_mode": {
    "name": "ipython",
    "version": 3
   },
   "file_extension": ".py",
   "mimetype": "text/x-python",
   "name": "python",
   "nbconvert_exporter": "python",
   "pygments_lexer": "ipython3",
   "version": "3.6.8-final"
  }
 },
 "nbformat": 4,
 "nbformat_minor": 2
}