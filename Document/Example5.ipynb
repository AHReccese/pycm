{
 "cells": [
  {
   "cell_type": "markdown",
   "metadata": {},
   "source": [
    "# Example-5 (Sample weights)"
   ]
  },
  {
   "cell_type": "markdown",
   "metadata": {},
   "source": [
    "## Without weights"
   ]
  },
  {
   "cell_type": "code",
   "execution_count": 1,
   "metadata": {},
   "outputs": [],
   "source": [
    "from pycm import ConfusionMatrix\n",
    "y_test = [2, 0, 2, 2, 0, 1, 1, 2, 2, 0, 1, 2]\n",
    "y_pred = [0, 0, 2, 1, 0, 2, 1, 0, 2, 0, 2, 2]"
   ]
  },
  {
   "cell_type": "code",
   "execution_count": 2,
   "metadata": {},
   "outputs": [
    {
     "data": {
      "text/plain": [
       "pycm.ConfusionMatrix(classes: [0, 1, 2])"
      ]
     },
     "execution_count": 2,
     "metadata": {},
     "output_type": "execute_result"
    }
   ],
   "source": [
    "cm1=ConfusionMatrix(y_test, y_pred)\n",
    "cm1"
   ]
  },
  {
   "cell_type": "code",
   "execution_count": 3,
   "metadata": {},
   "outputs": [
    {
     "name": "stdout",
     "output_type": "stream",
     "text": [
      "Predict          0    1    2    \n",
      "Actual\n",
      "0                3    0    0    \n",
      "\n",
      "1                0    1    2    \n",
      "\n",
      "2                2    1    3    \n",
      "\n",
      "\n",
      "\n",
      "\n",
      "\n",
      "Overall Statistics : \n",
      "\n",
      "95% CI                                                           (0.30439,0.86228)\n",
      "AUNP                                                             0.66667\n",
      "AUNU                                                             0.69444\n",
      "Bennett_S                                                        0.375\n",
      "CBA                                                              0.47778\n",
      "Chi-Squared                                                      6.6\n",
      "Chi-Squared DF                                                   4\n",
      "Conditional Entropy                                              0.95915\n",
      "Cramer_V                                                         0.5244\n",
      "Cross Entropy                                                    1.59352\n",
      "Gwet_AC1                                                         0.38931\n",
      "Hamming Loss                                                     0.41667\n",
      "Joint Entropy                                                    2.45915\n",
      "KL Divergence                                                    0.09352\n",
      "Kappa                                                            0.35484\n",
      "Kappa 95% CI                                                     (-0.07708,0.78675)\n",
      "Kappa No Prevalence                                              0.16667\n",
      "Kappa Standard Error                                             0.22036\n",
      "Kappa Unbiased                                                   0.34426\n",
      "Lambda A                                                         0.16667\n",
      "Lambda B                                                         0.42857\n",
      "Mutual Information                                               0.52421\n",
      "NIR                                                              0.5\n",
      "Overall_ACC                                                      0.58333\n",
      "Overall_CEN                                                      0.46381\n",
      "Overall_J                                                        (1.225,0.40833)\n",
      "Overall_MCC                                                      0.36667\n",
      "Overall_MCEN                                                     0.51894\n",
      "Overall_RACC                                                     0.35417\n",
      "Overall_RACCU                                                    0.36458\n",
      "P-Value                                                          0.38721\n",
      "PPV_Macro                                                        0.56667\n",
      "PPV_Micro                                                        0.58333\n",
      "Phi-Squared                                                      0.55\n",
      "RCI                                                              0.34947\n",
      "RR                                                               4.0\n",
      "Reference Entropy                                                1.5\n",
      "Response Entropy                                                 1.48336\n",
      "Scott_PI                                                         0.34426\n",
      "Standard Error                                                   0.14232\n",
      "Strength_Of_Agreement(Altman)                                    Fair\n",
      "Strength_Of_Agreement(Cicchetti)                                 Poor\n",
      "Strength_Of_Agreement(Fleiss)                                    Poor\n",
      "Strength_Of_Agreement(Landis and Koch)                           Fair\n",
      "TPR_Macro                                                        0.61111\n",
      "TPR_Micro                                                        0.58333\n",
      "Zero-one Loss                                                    5\n",
      "\n",
      "Class Statistics :\n",
      "\n",
      "Classes                                                          0                       1                       2                       \n",
      "ACC(Accuracy)                                                    0.83333                 0.75                    0.58333                 \n",
      "AUC(Area under the roc curve)                                    0.88889                 0.61111                 0.58333                 \n",
      "BM(Informedness or bookmaker informedness)                       0.77778                 0.22222                 0.16667                 \n",
      "CEN(Confusion entropy)                                           0.25                    0.49658                 0.60442                 \n",
      "DOR(Diagnostic odds ratio)                                       None                    4.0                     2.0                     \n",
      "DP(Discriminant power)                                           None                    0.33193                 0.16597                 \n",
      "DPI(Discriminant power interpretation)                           None                    Poor                    Poor                    \n",
      "ERR(Error rate)                                                  0.16667                 0.25                    0.41667                 \n",
      "F0.5(F0.5 score)                                                 0.65217                 0.45455                 0.57692                 \n",
      "F1(F1 score - harmonic mean of precision and sensitivity)        0.75                    0.4                     0.54545                 \n",
      "F2(F2 score)                                                     0.88235                 0.35714                 0.51724                 \n",
      "FDR(False discovery rate)                                        0.4                     0.5                     0.4                     \n",
      "FN(False negative/miss/type 2 error)                             0                       2                       3                       \n",
      "FNR(Miss rate or false negative rate)                            0.0                     0.66667                 0.5                     \n",
      "FOR(False omission rate)                                         0.0                     0.2                     0.42857                 \n",
      "FP(False positive/type 1 error/false alarm)                      2                       1                       2                       \n",
      "FPR(Fall-out or false positive rate)                             0.22222                 0.11111                 0.33333                 \n",
      "G(G-measure geometric mean of precision and sensitivity)         0.7746                  0.40825                 0.54772                 \n",
      "IS(Information score)                                            1.26303                 1.0                     0.26303                 \n",
      "J(Jaccard index)                                                 0.6                     0.25                    0.375                   \n",
      "MCC(Matthews correlation coefficient)                            0.68313                 0.2582                  0.16903                 \n",
      "MCEN(Modified confusion entropy)                                 0.26439                 0.5                     0.6875                  \n",
      "MK(Markedness)                                                   0.6                     0.3                     0.17143                 \n",
      "N(Condition negative)                                            9                       9                       6                       \n",
      "NLR(Negative likelihood ratio)                                   0.0                     0.75                    0.75                    \n",
      "NPV(Negative predictive value)                                   1.0                     0.8                     0.57143                 \n",
      "P(Condition positive or support)                                 3                       3                       6                       \n",
      "PLR(Positive likelihood ratio)                                   4.5                     3.0                     1.5                     \n",
      "PLRI(Positive likelihood ratio interpretation)                   Poor                    Poor                    Poor                    \n",
      "POP(Population)                                                  12                      12                      12                      \n",
      "PPV(Precision or positive predictive value)                      0.6                     0.5                     0.6                     \n",
      "PRE(Prevalence)                                                  0.25                    0.25                    0.5                     \n",
      "RACC(Random accuracy)                                            0.10417                 0.04167                 0.20833                 \n",
      "RACCU(Random accuracy unbiased)                                  0.11111                 0.0434                  0.21007                 \n",
      "TN(True negative/correct rejection)                              7                       8                       4                       \n",
      "TNR(Specificity or true negative rate)                           0.77778                 0.88889                 0.66667                 \n",
      "TON(Test outcome negative)                                       7                       10                      7                       \n",
      "TOP(Test outcome positive)                                       5                       2                       5                       \n",
      "TP(True positive/hit)                                            3                       1                       3                       \n",
      "TPR(Sensitivity, recall, hit rate, or true positive rate)        1.0                     0.33333                 0.5                     \n",
      "Y(Youden index)                                                  0.77778                 0.22222                 0.16667                 \n",
      "dInd(Distance index)                                             0.22222                 0.67586                 0.60093                 \n",
      "sInd(Similarity index)                                           0.84287                 0.52209                 0.57508                 \n",
      "\n"
     ]
    }
   ],
   "source": [
    "print(cm1)"
   ]
  },
  {
   "cell_type": "markdown",
   "metadata": {},
   "source": [
    "## With random weights"
   ]
  },
  {
   "cell_type": "code",
   "execution_count": 4,
   "metadata": {},
   "outputs": [],
   "source": [
    "from random import randint\n",
    "weights = [randint(1,10) for i in range(len(y_test))]\n",
    "weights[2]*=9"
   ]
  },
  {
   "cell_type": "code",
   "execution_count": 5,
   "metadata": {},
   "outputs": [
    {
     "data": {
      "text/plain": [
       "pycm.ConfusionMatrix(classes: [0, 1, 2])"
      ]
     },
     "execution_count": 5,
     "metadata": {},
     "output_type": "execute_result"
    }
   ],
   "source": [
    "cm2=ConfusionMatrix(y_test, y_pred, sample_weight = weights)\n",
    "cm2"
   ]
  },
  {
   "cell_type": "code",
   "execution_count": 6,
   "metadata": {},
   "outputs": [
    {
     "name": "stdout",
     "output_type": "stream",
     "text": [
      "Predict          0     1     2     \n",
      "Actual\n",
      "0                13    0     0     \n",
      "\n",
      "1                0     10    11    \n",
      "\n",
      "2                11    6     70    \n",
      "\n",
      "\n",
      "\n",
      "\n",
      "\n",
      "Overall Statistics : \n",
      "\n",
      "95% CI                                                           (0.69345,0.84374)\n",
      "AUNP                                                             0.75731\n",
      "AUNU                                                             0.79923\n",
      "Bennett_S                                                        0.65289\n",
      "CBA                                                              0.60748\n",
      "Chi-Squared                                                      83.43724\n",
      "Chi-Squared DF                                                   4\n",
      "Conditional Entropy                                              0.81726\n",
      "Cramer_V                                                         0.58718\n",
      "Cross Entropy                                                    1.17364\n",
      "Gwet_AC1                                                         0.69725\n",
      "Hamming Loss                                                     0.2314\n",
      "Joint Entropy                                                    1.94372\n",
      "KL Divergence                                                    0.04718\n",
      "Kappa                                                            0.51224\n",
      "Kappa 95% CI                                                     (0.35384,0.67063)\n",
      "Kappa No Prevalence                                              0.53719\n",
      "Kappa Standard Error                                             0.08081\n",
      "Kappa Unbiased                                                   0.50902\n",
      "Lambda A                                                         0.17647\n",
      "Lambda B                                                         0.325\n",
      "Mutual Information                                               0.41923\n",
      "NIR                                                              0.71901\n",
      "Overall_ACC                                                      0.7686\n",
      "Overall_CEN                                                      0.35044\n",
      "Overall_J                                                        (1.62632,0.54211)\n",
      "Overall_MCC                                                      0.51989\n",
      "Overall_MCEN                                                     0.44713\n",
      "Overall_RACC                                                     0.52558\n",
      "Overall_RACCU                                                    0.52869\n",
      "P-Value                                                          0.13209\n",
      "PPV_Macro                                                        0.67695\n",
      "PPV_Micro                                                        0.7686\n",
      "Phi-Squared                                                      0.68956\n",
      "RCI                                                              0.37217\n",
      "RR                                                               40.33333\n",
      "Reference Entropy                                                1.12646\n",
      "Response Entropy                                                 1.23649\n",
      "Scott_PI                                                         0.50902\n",
      "Standard Error                                                   0.03834\n",
      "Strength_Of_Agreement(Altman)                                    Moderate\n",
      "Strength_Of_Agreement(Cicchetti)                                 Fair\n",
      "Strength_Of_Agreement(Fleiss)                                    Intermediate to Good\n",
      "Strength_Of_Agreement(Landis and Koch)                           Moderate\n",
      "TPR_Macro                                                        0.76026\n",
      "TPR_Micro                                                        0.7686\n",
      "Zero-one Loss                                                    28\n",
      "\n",
      "Class Statistics :\n",
      "\n",
      "Classes                                                          0                       1                       2                       \n",
      "ACC(Accuracy)                                                    0.90909                 0.8595                  0.7686                  \n",
      "AUC(Area under the roc curve)                                    0.94907                 0.7081                  0.74053                 \n",
      "BM(Informedness or bookmaker informedness)                       0.89815                 0.41619                 0.48107                 \n",
      "CEN(Confusion entropy)                                           0.26014                 0.47293                 0.34336                 \n",
      "DOR(Diagnostic odds ratio)                                       None                    14.24242                8.60963                 \n",
      "DP(Discriminant power)                                           None                    0.636                   0.51548                 \n",
      "DPI(Discriminant power interpretation)                           None                    Poor                    Poor                    \n",
      "ERR(Error rate)                                                  0.09091                 0.1405                  0.2314                  \n",
      "F0.5(F0.5 score)                                                 0.59633                 0.58824                 0.85158                 \n",
      "F1(F1 score - harmonic mean of precision and sensitivity)        0.7027                  0.54054                 0.83333                 \n",
      "F2(F2 score)                                                     0.85526                 0.5                     0.81585                 \n",
      "FDR(False discovery rate)                                        0.45833                 0.375                   0.1358                  \n",
      "FN(False negative/miss/type 2 error)                             0                       11                      17                      \n",
      "FNR(Miss rate or false negative rate)                            0.0                     0.52381                 0.1954                  \n",
      "FOR(False omission rate)                                         0.0                     0.10476                 0.425                   \n",
      "FP(False positive/type 1 error/false alarm)                      11                      6                       11                      \n",
      "FPR(Fall-out or false positive rate)                             0.10185                 0.06                    0.32353                 \n",
      "G(G-measure geometric mean of precision and sensitivity)         0.73598                 0.54554                 0.83387                 \n",
      "IS(Information score)                                            2.3339                  1.84847                 0.26535                 \n",
      "J(Jaccard index)                                                 0.54167                 0.37037                 0.71429                 \n",
      "MCC(Matthews correlation coefficient)                            0.69749                 0.46532                 0.45966                 \n",
      "MCEN(Modified confusion entropy)                                 0.25793                 0.50499                 0.47752                 \n",
      "MK(Markedness)                                                   0.54167                 0.52024                 0.4392                  \n",
      "N(Condition negative)                                            108                     100                     34                      \n",
      "NLR(Negative likelihood ratio)                                   0.0                     0.55724                 0.28886                 \n",
      "NPV(Negative predictive value)                                   1.0                     0.89524                 0.575                   \n",
      "P(Condition positive or support)                                 13                      21                      87                      \n",
      "PLR(Positive likelihood ratio)                                   9.81818                 7.93651                 2.48694                 \n",
      "PLRI(Positive likelihood ratio interpretation)                   Fair                    Fair                    Poor                    \n",
      "POP(Population)                                                  121                     121                     121                     \n",
      "PPV(Precision or positive predictive value)                      0.54167                 0.625                   0.8642                  \n",
      "PRE(Prevalence)                                                  0.10744                 0.17355                 0.71901                 \n",
      "RACC(Random accuracy)                                            0.02131                 0.02295                 0.48132                 \n",
      "RACCU(Random accuracy unbiased)                                  0.02338                 0.02338                 0.48193                 \n",
      "TN(True negative/correct rejection)                              97                      94                      23                      \n",
      "TNR(Specificity or true negative rate)                           0.89815                 0.94                    0.67647                 \n",
      "TON(Test outcome negative)                                       97                      105                     40                      \n",
      "TOP(Test outcome positive)                                       24                      16                      81                      \n",
      "TP(True positive/hit)                                            13                      10                      70                      \n",
      "TPR(Sensitivity, recall, hit rate, or true positive rate)        1.0                     0.47619                 0.8046                  \n",
      "Y(Youden index)                                                  0.89815                 0.41619                 0.48107                 \n",
      "dInd(Distance index)                                             0.10185                 0.52723                 0.37796                 \n",
      "sInd(Similarity index)                                           0.92798                 0.62719                 0.73274                 \n",
      "\n"
     ]
    }
   ],
   "source": [
    "print(cm2)"
   ]
  }
 ],
 "metadata": {
  "kernelspec": {
   "display_name": "Python 3",
   "language": "python",
   "name": "python3"
  },
  "language_info": {
   "codemirror_mode": {
    "name": "ipython",
    "version": 3
   },
   "file_extension": ".py",
   "mimetype": "text/x-python",
   "name": "python",
   "nbconvert_exporter": "python",
   "pygments_lexer": "ipython3",
   "version": "3.5.2"
  }
 },
 "nbformat": 4,
 "nbformat_minor": 2
}
