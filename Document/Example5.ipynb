{
 "cells": [
  {
   "cell_type": "markdown",
   "metadata": {},
   "source": [
    "# Example-5 (Sample Weights)"
   ]
  },
  {
   "cell_type": "markdown",
   "metadata": {},
   "source": [
    "## Without weights"
   ]
  },
  {
   "cell_type": "code",
   "execution_count": 1,
   "metadata": {},
   "outputs": [],
   "source": [
    "from pycm import ConfusionMatrix\n",
    "y_test = [2, 0, 2, 2, 0, 1, 1, 2, 2, 0, 1, 2]\n",
    "y_pred = [0, 0, 2, 1, 0, 2, 1, 0, 2, 0, 2, 2]"
   ]
  },
  {
   "cell_type": "code",
   "execution_count": 2,
   "metadata": {},
   "outputs": [
    {
     "data": {
      "text/plain": [
       "pycm.ConfusionMatrix(classes: [0, 1, 2])"
      ]
     },
     "execution_count": 2,
     "metadata": {},
     "output_type": "execute_result"
    }
   ],
   "source": [
    "cm1=ConfusionMatrix(y_test, y_pred)\n",
    "cm1"
   ]
  },
  {
   "cell_type": "code",
   "execution_count": 3,
   "metadata": {},
   "outputs": [
    {
     "name": "stdout",
     "output_type": "stream",
     "text": [
      "Predict          0    1    2    \n",
      "Actual\n",
      "0                3    0    0    \n",
      "1                0    1    2    \n",
      "2                2    1    3    \n",
      "\n",
      "\n",
      "\n",
      "\n",
      "Overall Statistics : \n",
      "\n",
      "95% CI                                                           (0.30439,0.86228)\n",
      "Bennett_S                                                        0.375\n",
      "Chi-Squared                                                      6.6\n",
      "Chi-Squared DF                                                   4\n",
      "Conditional Entropy                                              0.95915\n",
      "Cramer_V                                                         0.5244\n",
      "Cross Entropy                                                    1.59352\n",
      "Gwet_AC1                                                         0.38931\n",
      "Hamming Loss                                                     0.41667\n",
      "Joint Entropy                                                    2.45915\n",
      "KL Divergence                                                    0.09352\n",
      "Kappa                                                            0.35484\n",
      "Kappa 95% CI                                                     (-0.07708,0.78675)\n",
      "Kappa No Prevalence                                              0.16667\n",
      "Kappa Standard Error                                             0.22036\n",
      "Kappa Unbiased                                                   0.34426\n",
      "Lambda A                                                         0.16667\n",
      "Lambda B                                                         0.42857\n",
      "Mutual Information                                               0.52421\n",
      "NIR                                                              0.5\n",
      "Overall_ACC                                                      0.58333\n",
      "Overall_CEN                                                      0.46381\n",
      "Overall_J                                                        (1.225,0.40833)\n",
      "Overall_MCEN                                                     0.51894\n",
      "Overall_RACC                                                     0.35417\n",
      "Overall_RACCU                                                    0.36458\n",
      "P-Value                                                          0.38721\n",
      "PPV_Macro                                                        0.56667\n",
      "PPV_Micro                                                        0.58333\n",
      "Phi-Squared                                                      0.55\n",
      "Reference Entropy                                                1.5\n",
      "Response Entropy                                                 1.48336\n",
      "Scott_PI                                                         0.34426\n",
      "Standard Error                                                   0.14232\n",
      "Strength_Of_Agreement(Altman)                                    Fair\n",
      "Strength_Of_Agreement(Cicchetti)                                 Poor\n",
      "Strength_Of_Agreement(Fleiss)                                    Poor\n",
      "Strength_Of_Agreement(Landis and Koch)                           Fair\n",
      "TPR_Macro                                                        0.61111\n",
      "TPR_Micro                                                        0.58333\n",
      "Zero-one Loss                                                    5\n",
      "\n",
      "Class Statistics :\n",
      "\n",
      "Classes                                                          0                       1                       2                       \n",
      "ACC(Accuracy)                                                    0.83333                 0.75                    0.58333                 \n",
      "BM(Informedness or bookmaker informedness)                       0.77778                 0.22222                 0.16667                 \n",
      "CEN(Confusion entropy)                                           0.25                    0.49658                 0.60442                 \n",
      "DOR(Diagnostic odds ratio)                                       None                    4.0                     2.0                     \n",
      "ERR(Error rate)                                                  0.16667                 0.25                    0.41667                 \n",
      "F0.5(F0.5 score)                                                 0.65217                 0.45455                 0.57692                 \n",
      "F1(F1 score - harmonic mean of precision and sensitivity)        0.75                    0.4                     0.54545                 \n",
      "F2(F2 score)                                                     0.88235                 0.35714                 0.51724                 \n",
      "FDR(False discovery rate)                                        0.4                     0.5                     0.4                     \n",
      "FN(False negative/miss/type 2 error)                             0                       2                       3                       \n",
      "FNR(Miss rate or false negative rate)                            0.0                     0.66667                 0.5                     \n",
      "FOR(False omission rate)                                         0.0                     0.2                     0.42857                 \n",
      "FP(False positive/type 1 error/false alarm)                      2                       1                       2                       \n",
      "FPR(Fall-out or false positive rate)                             0.22222                 0.11111                 0.33333                 \n",
      "G(G-measure geometric mean of precision and sensitivity)         0.7746                  0.40825                 0.54772                 \n",
      "IS(Information score)                                            1.26303                 1.0                     0.26303                 \n",
      "J(Jaccard index)                                                 0.6                     0.25                    0.375                   \n",
      "LR+(Positive likelihood ratio)                                   4.5                     3.0                     1.5                     \n",
      "LR-(Negative likelihood ratio)                                   0.0                     0.75                    0.75                    \n",
      "MCC(Matthews correlation coefficient)                            0.68313                 0.2582                  0.16903                 \n",
      "MCEN(Modified confusion entropy)                                 0.26439                 0.5                     0.6875                  \n",
      "MK(Markedness)                                                   0.6                     0.3                     0.17143                 \n",
      "N(Condition negative)                                            9                       9                       6                       \n",
      "NPV(Negative predictive value)                                   1.0                     0.8                     0.57143                 \n",
      "P(Condition positive or support)                                 3                       3                       6                       \n",
      "POP(Population)                                                  12                      12                      12                      \n",
      "PPV(Precision or positive predictive value)                      0.6                     0.5                     0.6                     \n",
      "PRE(Prevalence)                                                  0.25                    0.25                    0.5                     \n",
      "RACC(Random accuracy)                                            0.10417                 0.04167                 0.20833                 \n",
      "RACCU(Random accuracy unbiased)                                  0.11111                 0.0434                  0.21007                 \n",
      "TN(True negative/correct rejection)                              7                       8                       4                       \n",
      "TNR(Specificity or true negative rate)                           0.77778                 0.88889                 0.66667                 \n",
      "TON(Test outcome negative)                                       7                       10                      7                       \n",
      "TOP(Test outcome positive)                                       5                       2                       5                       \n",
      "TP(True positive/hit)                                            3                       1                       3                       \n",
      "TPR(Sensitivity, recall, hit rate, or true positive rate)        1.0                     0.33333                 0.5                     \n",
      "\n"
     ]
    }
   ],
   "source": [
    "print(cm1)"
   ]
  },
  {
   "cell_type": "markdown",
   "metadata": {},
   "source": [
    "## With random weights"
   ]
  },
  {
   "cell_type": "code",
   "execution_count": 4,
   "metadata": {},
   "outputs": [],
   "source": [
    "from random import randint\n",
    "weights = [randint(1,10) for i in range(len(y_test))]\n",
    "weights[2]*=9"
   ]
  },
  {
   "cell_type": "code",
   "execution_count": 5,
   "metadata": {},
   "outputs": [
    {
     "data": {
      "text/plain": [
       "pycm.ConfusionMatrix(classes: [0, 1, 2])"
      ]
     },
     "execution_count": 5,
     "metadata": {},
     "output_type": "execute_result"
    }
   ],
   "source": [
    "cm2=ConfusionMatrix(y_test, y_pred, sample_weight = weights)\n",
    "cm2"
   ]
  },
  {
   "cell_type": "code",
   "execution_count": 6,
   "metadata": {},
   "outputs": [
    {
     "name": "stdout",
     "output_type": "stream",
     "text": [
      "Predict          0    1    2    \n",
      "Actual\n",
      "0                26   0    0    \n",
      "1                0    8    9    \n",
      "2                17   8    60   \n",
      "\n",
      "\n",
      "\n",
      "\n",
      "Overall Statistics : \n",
      "\n",
      "95% CI                                                           (0.65786,0.81089)\n",
      "Bennett_S                                                        0.60156\n",
      "Chi-Squared                                                      83.06411\n",
      "Chi-Squared DF                                                   4\n",
      "Conditional Entropy                                              0.8895\n",
      "Cramer_V                                                         0.56962\n",
      "Cross Entropy                                                    1.3101\n",
      "Gwet_AC1                                                         0.63391\n",
      "Hamming Loss                                                     0.26562\n",
      "Joint Entropy                                                    2.13562\n",
      "KL Divergence                                                    0.06398\n",
      "Kappa                                                            0.52328\n",
      "Kappa 95% CI                                                     (0.38596,0.6606)\n",
      "Kappa No Prevalence                                              0.46875\n",
      "Kappa Standard Error                                             0.07006\n",
      "Kappa Unbiased                                                   0.51604\n",
      "Lambda A                                                         0.2093\n",
      "Lambda B                                                         0.44068\n",
      "Mutual Information                                               0.49474\n",
      "NIR                                                              0.66406\n",
      "Overall_ACC                                                      0.73438\n",
      "Overall_CEN                                                      0.37625\n",
      "Overall_J                                                        (1.56295,0.52098)\n",
      "Overall_MCEN                                                     0.46301\n",
      "Overall_RACC                                                     0.44281\n",
      "Overall_RACCU                                                    0.45114\n",
      "P-Value                                                          0.0538\n",
      "PPV_Macro                                                        0.65807\n",
      "PPV_Micro                                                        0.73438\n",
      "Phi-Squared                                                      0.64894\n",
      "Reference Entropy                                                1.24612\n",
      "Response Entropy                                                 1.38424\n",
      "Scott_PI                                                         0.51604\n",
      "Standard Error                                                   0.03904\n",
      "Strength_Of_Agreement(Altman)                                    Moderate\n",
      "Strength_Of_Agreement(Cicchetti)                                 Fair\n",
      "Strength_Of_Agreement(Fleiss)                                    Intermediate to Good\n",
      "Strength_Of_Agreement(Landis and Koch)                           Moderate\n",
      "TPR_Macro                                                        0.72549\n",
      "TPR_Micro                                                        0.73438\n",
      "Zero-one Loss                                                    34\n",
      "\n",
      "Class Statistics :\n",
      "\n",
      "Classes                                                          0                       1                       2                       \n",
      "ACC(Accuracy)                                                    0.86719                 0.86719                 0.73438                 \n",
      "BM(Informedness or bookmaker informedness)                       0.83333                 0.39852                 0.49658                 \n",
      "CEN(Confusion entropy)                                           0.24897                 0.50341                 0.40602                 \n",
      "DOR(Diagnostic odds ratio)                                       None                    11.44444                9.06667                 \n",
      "ERR(Error rate)                                                  0.13281                 0.13281                 0.26562                 \n",
      "F0.5(F0.5 score)                                                 0.65657                 0.49383                 0.83102                 \n",
      "F1(F1 score - harmonic mean of precision and sensitivity)        0.75362                 0.48485                 0.77922                 \n",
      "F2(F2 score)                                                     0.88435                 0.47619                 0.7335                  \n",
      "FDR(False discovery rate)                                        0.39535                 0.5                     0.13043                 \n",
      "FN(False negative/miss/type 2 error)                             0                       9                       25                      \n",
      "FNR(Miss rate or false negative rate)                            0.0                     0.52941                 0.29412                 \n",
      "FOR(False omission rate)                                         0.0                     0.08036                 0.42373                 \n",
      "FP(False positive/type 1 error/false alarm)                      17                      8                       9                       \n",
      "FPR(Fall-out or false positive rate)                             0.16667                 0.07207                 0.2093                  \n",
      "G(G-measure geometric mean of precision and sensitivity)         0.77759                 0.48507                 0.78346                 \n",
      "IS(Information score)                                            1.57374                 1.91254                 0.38898                 \n",
      "J(Jaccard index)                                                 0.60465                 0.32                    0.6383                  \n",
      "LR+(Positive likelihood ratio)                                   6.0                     6.52941                 3.37255                 \n",
      "LR-(Negative likelihood ratio)                                   0.0                     0.57053                 0.37197                 \n",
      "MCC(Matthews correlation coefficient)                            0.70984                 0.40894                 0.47052                 \n",
      "MCEN(Modified confusion entropy)                                 0.26465                 0.52832                 0.53638                 \n",
      "MK(Markedness)                                                   0.60465                 0.41964                 0.44584                 \n",
      "N(Condition negative)                                            102                     111                     43                      \n",
      "NPV(Negative predictive value)                                   1.0                     0.91964                 0.57627                 \n",
      "P(Condition positive or support)                                 26                      17                      85                      \n",
      "POP(Population)                                                  128                     128                     128                     \n",
      "PPV(Precision or positive predictive value)                      0.60465                 0.5                     0.86957                 \n",
      "PRE(Prevalence)                                                  0.20312                 0.13281                 0.66406                 \n",
      "RACC(Random accuracy)                                            0.06824                 0.0166                  0.35797                 \n",
      "RACCU(Random accuracy unbiased)                                  0.07265                 0.01662                 0.36188                 \n",
      "TN(True negative/correct rejection)                              85                      103                     34                      \n",
      "TNR(Specificity or true negative rate)                           0.83333                 0.92793                 0.7907                  \n",
      "TON(Test outcome negative)                                       85                      112                     59                      \n",
      "TOP(Test outcome positive)                                       43                      16                      69                      \n",
      "TP(True positive/hit)                                            26                      8                       60                      \n",
      "TPR(Sensitivity, recall, hit rate, or true positive rate)        1.0                     0.47059                 0.70588                 \n",
      "\n"
     ]
    }
   ],
   "source": [
    "print(cm2)"
   ]
  }
 ],
 "metadata": {
  "kernelspec": {
   "display_name": "Python 3",
   "language": "python",
   "name": "python3"
  },
  "language_info": {
   "codemirror_mode": {
    "name": "ipython",
    "version": 3
   },
   "file_extension": ".py",
   "mimetype": "text/x-python",
   "name": "python",
   "nbconvert_exporter": "python",
   "pygments_lexer": "ipython3",
   "version": "3.5.2"
  }
 },
 "nbformat": 4,
 "nbformat_minor": 2
}
