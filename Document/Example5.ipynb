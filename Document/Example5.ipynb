{
 "cells": [
  {
   "cell_type": "markdown",
   "metadata": {},
   "source": [
    "# Example-5 (Sample weights)"
   ]
  },
  {
   "cell_type": "markdown",
   "metadata": {},
   "source": [
    "## Without weights"
   ]
  },
  {
   "cell_type": "code",
   "execution_count": 1,
   "metadata": {},
   "outputs": [],
   "source": [
    "from pycm import ConfusionMatrix\n",
    "y_test = [2, 0, 2, 2, 0, 1, 1, 2, 2, 0, 1, 2]\n",
    "y_pred = [0, 0, 2, 1, 0, 2, 1, 0, 2, 0, 2, 2]"
   ]
  },
  {
   "cell_type": "code",
   "execution_count": 2,
   "metadata": {},
   "outputs": [
    {
     "data": {
      "text/plain": [
       "pycm.ConfusionMatrix(classes: [0, 1, 2])"
      ]
     },
     "execution_count": 2,
     "metadata": {},
     "output_type": "execute_result"
    }
   ],
   "source": [
    "cm1=ConfusionMatrix(y_test, y_pred)\n",
    "cm1"
   ]
  },
  {
   "cell_type": "code",
   "execution_count": 3,
   "metadata": {},
   "outputs": [
    {
     "name": "stdout",
     "output_type": "stream",
     "text": [
      "Predict          0    1    2    \n",
      "Actual\n",
      "0                3    0    0    \n",
      "\n",
      "1                0    1    2    \n",
      "\n",
      "2                2    1    3    \n",
      "\n",
      "\n",
      "\n",
      "\n",
      "\n",
      "Overall Statistics : \n",
      "\n",
      "95% CI                                                           (0.30439,0.86228)\n",
      "AUNP                                                             0.66667\n",
      "AUNU                                                             0.69444\n",
      "Bennett S                                                        0.375\n",
      "CBA                                                              0.47778\n",
      "Chi-Squared                                                      6.6\n",
      "Chi-Squared DF                                                   4\n",
      "Conditional Entropy                                              0.95915\n",
      "Cramer V                                                         0.5244\n",
      "Cross Entropy                                                    1.59352\n",
      "Gwet AC1                                                         0.38931\n",
      "Hamming Loss                                                     0.41667\n",
      "Joint Entropy                                                    2.45915\n",
      "KL Divergence                                                    0.09352\n",
      "Kappa                                                            0.35484\n",
      "Kappa 95% CI                                                     (-0.07708,0.78675)\n",
      "Kappa No Prevalence                                              0.16667\n",
      "Kappa Standard Error                                             0.22036\n",
      "Kappa Unbiased                                                   0.34426\n",
      "Lambda A                                                         0.16667\n",
      "Lambda B                                                         0.42857\n",
      "Mutual Information                                               0.52421\n",
      "NIR                                                              0.5\n",
      "Overall ACC                                                      0.58333\n",
      "Overall CEN                                                      0.46381\n",
      "Overall J                                                        (1.225,0.40833)\n",
      "Overall MCC                                                      0.36667\n",
      "Overall MCEN                                                     0.51894\n",
      "Overall RACC                                                     0.35417\n",
      "Overall RACCU                                                    0.36458\n",
      "P-Value                                                          0.38721\n",
      "PPV Macro                                                        0.56667\n",
      "PPV Micro                                                        0.58333\n",
      "Phi-Squared                                                      0.55\n",
      "RCI                                                              0.34947\n",
      "RR                                                               4.0\n",
      "Reference Entropy                                                1.5\n",
      "Response Entropy                                                 1.48336\n",
      "SOA1(Landis & Koch)                                              Fair\n",
      "SOA2(Fleiss)                                                     Poor\n",
      "SOA3(Altman)                                                     Fair\n",
      "SOA4(Cicchetti)                                                  Poor\n",
      "Scott PI                                                         0.34426\n",
      "Standard Error                                                   0.14232\n",
      "TPR Macro                                                        0.61111\n",
      "TPR Micro                                                        0.58333\n",
      "Zero-one Loss                                                    5\n",
      "\n",
      "Class Statistics :\n",
      "\n",
      "Classes                                                          0                       1                       2                       \n",
      "ACC(Accuracy)                                                    0.83333                 0.75                    0.58333                 \n",
      "AUC(Area under the roc curve)                                    0.88889                 0.61111                 0.58333                 \n",
      "AUCI(Auc value interpretation)                                   Very Good               Fair                    Poor                    \n",
      "BM(Informedness or bookmaker informedness)                       0.77778                 0.22222                 0.16667                 \n",
      "CEN(Confusion entropy)                                           0.25                    0.49658                 0.60442                 \n",
      "DOR(Diagnostic odds ratio)                                       None                    4.0                     2.0                     \n",
      "DP(Discriminant power)                                           None                    0.33193                 0.16597                 \n",
      "DPI(Discriminant power interpretation)                           None                    Poor                    Poor                    \n",
      "ERR(Error rate)                                                  0.16667                 0.25                    0.41667                 \n",
      "F0.5(F0.5 score)                                                 0.65217                 0.45455                 0.57692                 \n",
      "F1(F1 score - harmonic mean of precision and sensitivity)        0.75                    0.4                     0.54545                 \n",
      "F2(F2 score)                                                     0.88235                 0.35714                 0.51724                 \n",
      "FDR(False discovery rate)                                        0.4                     0.5                     0.4                     \n",
      "FN(False negative/miss/type 2 error)                             0                       2                       3                       \n",
      "FNR(Miss rate or false negative rate)                            0.0                     0.66667                 0.5                     \n",
      "FOR(False omission rate)                                         0.0                     0.2                     0.42857                 \n",
      "FP(False positive/type 1 error/false alarm)                      2                       1                       2                       \n",
      "FPR(Fall-out or false positive rate)                             0.22222                 0.11111                 0.33333                 \n",
      "G(G-measure geometric mean of precision and sensitivity)         0.7746                  0.40825                 0.54772                 \n",
      "IS(Information score)                                            1.26303                 1.0                     0.26303                 \n",
      "J(Jaccard index)                                                 0.6                     0.25                    0.375                   \n",
      "MCC(Matthews correlation coefficient)                            0.68313                 0.2582                  0.16903                 \n",
      "MCEN(Modified confusion entropy)                                 0.26439                 0.5                     0.6875                  \n",
      "MK(Markedness)                                                   0.6                     0.3                     0.17143                 \n",
      "N(Condition negative)                                            9                       9                       6                       \n",
      "NLR(Negative likelihood ratio)                                   0.0                     0.75                    0.75                    \n",
      "NPV(Negative predictive value)                                   1.0                     0.8                     0.57143                 \n",
      "P(Condition positive or support)                                 3                       3                       6                       \n",
      "PLR(Positive likelihood ratio)                                   4.5                     3.0                     1.5                     \n",
      "PLRI(Positive likelihood ratio interpretation)                   Poor                    Poor                    Poor                    \n",
      "POP(Population)                                                  12                      12                      12                      \n",
      "PPV(Precision or positive predictive value)                      0.6                     0.5                     0.6                     \n",
      "PRE(Prevalence)                                                  0.25                    0.25                    0.5                     \n",
      "RACC(Random accuracy)                                            0.10417                 0.04167                 0.20833                 \n",
      "RACCU(Random accuracy unbiased)                                  0.11111                 0.0434                  0.21007                 \n",
      "TN(True negative/correct rejection)                              7                       8                       4                       \n",
      "TNR(Specificity or true negative rate)                           0.77778                 0.88889                 0.66667                 \n",
      "TON(Test outcome negative)                                       7                       10                      7                       \n",
      "TOP(Test outcome positive)                                       5                       2                       5                       \n",
      "TP(True positive/hit)                                            3                       1                       3                       \n",
      "TPR(Sensitivity, recall, hit rate, or true positive rate)        1.0                     0.33333                 0.5                     \n",
      "Y(Youden index)                                                  0.77778                 0.22222                 0.16667                 \n",
      "dInd(Distance index)                                             0.22222                 0.67586                 0.60093                 \n",
      "sInd(Similarity index)                                           0.84287                 0.52209                 0.57508                 \n",
      "\n"
     ]
    }
   ],
   "source": [
    "print(cm1)"
   ]
  },
  {
   "cell_type": "markdown",
   "metadata": {},
   "source": [
    "## With random weights"
   ]
  },
  {
   "cell_type": "code",
   "execution_count": 4,
   "metadata": {},
   "outputs": [],
   "source": [
    "from random import randint\n",
    "weights = [randint(1,10) for i in range(len(y_test))]\n",
    "weights[2]*=9"
   ]
  },
  {
   "cell_type": "code",
   "execution_count": 5,
   "metadata": {},
   "outputs": [
    {
     "data": {
      "text/plain": [
       "pycm.ConfusionMatrix(classes: [0, 1, 2])"
      ]
     },
     "execution_count": 5,
     "metadata": {},
     "output_type": "execute_result"
    }
   ],
   "source": [
    "cm2=ConfusionMatrix(y_test, y_pred, sample_weight = weights)\n",
    "cm2"
   ]
  },
  {
   "cell_type": "code",
   "execution_count": 6,
   "metadata": {},
   "outputs": [
    {
     "name": "stdout",
     "output_type": "stream",
     "text": [
      "Predict          0     1     2     \n",
      "Actual\n",
      "0                18    0     0     \n",
      "\n",
      "1                0     9     10    \n",
      "\n",
      "2                9     9     69    \n",
      "\n",
      "\n",
      "\n",
      "\n",
      "\n",
      "Overall Statistics : \n",
      "\n",
      "95% CI                                                           (0.7006,0.84779)\n",
      "AUNP                                                             0.77955\n",
      "AUNU                                                             0.80432\n",
      "Bennett S                                                        0.66129\n",
      "CBA                                                              0.64448\n",
      "Chi-Squared                                                      92.88202\n",
      "Chi-Squared DF                                                   4\n",
      "Conditional Entropy                                              0.81412\n",
      "Cramer V                                                         0.61198\n",
      "Cross Entropy                                                    1.20222\n",
      "Gwet AC1                                                         0.69957\n",
      "Hamming Loss                                                     0.22581\n",
      "Joint Entropy                                                    1.99166\n",
      "KL Divergence                                                    0.02468\n",
      "Kappa                                                            0.54762\n",
      "Kappa 95% CI                                                     (0.40019,0.69506)\n",
      "Kappa No Prevalence                                              0.54839\n",
      "Kappa Standard Error                                             0.07522\n",
      "Kappa Unbiased                                                   0.54546\n",
      "Lambda A                                                         0.24324\n",
      "Lambda B                                                         0.4\n",
      "Mutual Information                                               0.4833\n",
      "NIR                                                              0.70161\n",
      "Overall ACC                                                      0.77419\n",
      "Overall CEN                                                      0.35152\n",
      "Overall J                                                        (1.69944,0.56648)\n",
      "Overall MCC                                                      0.55399\n",
      "Overall MCEN                                                     0.45518\n",
      "Overall RACC                                                     0.50085\n",
      "Overall RACCU                                                    0.50322\n",
      "P-Value                                                          0.04494\n",
      "PPV Macro                                                        0.68003\n",
      "PPV Micro                                                        0.77419\n",
      "Phi-Squared                                                      0.74905\n",
      "RCI                                                              0.41044\n",
      "RR                                                               41.33333\n",
      "Reference Entropy                                                1.17754\n",
      "Response Entropy                                                 1.29743\n",
      "SOA1(Landis & Koch)                                              Moderate\n",
      "SOA2(Fleiss)                                                     Intermediate to Good\n",
      "SOA3(Altman)                                                     Moderate\n",
      "SOA4(Cicchetti)                                                  Fair\n",
      "Scott PI                                                         0.54546\n",
      "Standard Error                                                   0.03755\n",
      "TPR Macro                                                        0.7556\n",
      "TPR Micro                                                        0.77419\n",
      "Zero-one Loss                                                    28\n",
      "\n",
      "Class Statistics :\n",
      "\n",
      "Classes                                                          0                       1                       2                       \n",
      "ACC(Accuracy)                                                    0.92742                 0.84677                 0.77419                 \n",
      "AUC(Area under the roc curve)                                    0.95755                 0.69398                 0.76142                 \n",
      "AUCI(Auc value interpretation)                                   Excellent               Fair                    Good                    \n",
      "BM(Informedness or bookmaker informedness)                       0.91509                 0.38797                 0.52283                 \n",
      "CEN(Confusion entropy)                                           0.23219                 0.50312                 0.35007                 \n",
      "DOR(Diagnostic odds ratio)                                       None                    9.6                     10.35                   \n",
      "DP(Discriminant power)                                           None                    0.54155                 0.55957                 \n",
      "DPI(Discriminant power interpretation)                           None                    Poor                    Poor                    \n",
      "ERR(Error rate)                                                  0.07258                 0.15323                 0.22581                 \n",
      "F0.5(F0.5 score)                                                 0.71429                 0.49451                 0.85608                 \n",
      "F1(F1 score - harmonic mean of precision and sensitivity)        0.8                     0.48649                 0.83133                 \n",
      "F2(F2 score)                                                     0.90909                 0.47872                 0.80796                 \n",
      "FDR(False discovery rate)                                        0.33333                 0.5                     0.12658                 \n",
      "FN(False negative/miss/type 2 error)                             0                       10                      18                      \n",
      "FNR(Miss rate or false negative rate)                            0.0                     0.52632                 0.2069                  \n",
      "FOR(False omission rate)                                         0.0                     0.09434                 0.4                     \n",
      "FP(False positive/type 1 error/false alarm)                      9                       9                       10                      \n",
      "FPR(Fall-out or false positive rate)                             0.08491                 0.08571                 0.27027                 \n",
      "G(G-measure geometric mean of precision and sensitivity)         0.8165                  0.48666                 0.83229                 \n",
      "IS(Information score)                                            2.19931                 1.70627                 0.316                   \n",
      "J(Jaccard index)                                                 0.66667                 0.32143                 0.71134                 \n",
      "MCC(Matthews correlation coefficient)                            0.78107                 0.39672                 0.49751                 \n",
      "MCEN(Modified confusion entropy)                                 0.26416                 0.52841                 0.48721                 \n",
      "MK(Markedness)                                                   0.66667                 0.40566                 0.47342                 \n",
      "N(Condition negative)                                            106                     105                     37                      \n",
      "NLR(Negative likelihood ratio)                                   0.0                     0.57566                 0.28352                 \n",
      "NPV(Negative predictive value)                                   1.0                     0.90566                 0.6                     \n",
      "P(Condition positive or support)                                 18                      19                      87                      \n",
      "PLR(Positive likelihood ratio)                                   11.77778                5.52632                 2.93448                 \n",
      "PLRI(Positive likelihood ratio interpretation)                   Good                    Fair                    Poor                    \n",
      "POP(Population)                                                  124                     124                     124                     \n",
      "PPV(Precision or positive predictive value)                      0.66667                 0.5                     0.87342                 \n",
      "PRE(Prevalence)                                                  0.14516                 0.15323                 0.70161                 \n",
      "RACC(Random accuracy)                                            0.03161                 0.02224                 0.447                   \n",
      "RACCU(Random accuracy unbiased)                                  0.03292                 0.02226                 0.44804                 \n",
      "TN(True negative/correct rejection)                              97                      96                      27                      \n",
      "TNR(Specificity or true negative rate)                           0.91509                 0.91429                 0.72973                 \n",
      "TON(Test outcome negative)                                       97                      106                     45                      \n",
      "TOP(Test outcome positive)                                       27                      18                      79                      \n",
      "TP(True positive/hit)                                            18                      9                       69                      \n",
      "TPR(Sensitivity, recall, hit rate, or true positive rate)        1.0                     0.47368                 0.7931                  \n",
      "Y(Youden index)                                                  0.91509                 0.38797                 0.52283                 \n",
      "dInd(Distance index)                                             0.08491                 0.53325                 0.34037                 \n",
      "sInd(Similarity index)                                           0.93996                 0.62294                 0.75932                 \n",
      "\n"
     ]
    }
   ],
   "source": [
    "print(cm2)"
   ]
  }
 ],
 "metadata": {
  "kernelspec": {
   "display_name": "Python 3",
   "language": "python",
   "name": "python3"
  },
  "language_info": {
   "codemirror_mode": {
    "name": "ipython",
    "version": 3
   },
   "file_extension": ".py",
   "mimetype": "text/x-python",
   "name": "python",
   "nbconvert_exporter": "python",
   "pygments_lexer": "ipython3",
   "version": "3.5.2"
  }
 },
 "nbformat": 4,
 "nbformat_minor": 2
}
