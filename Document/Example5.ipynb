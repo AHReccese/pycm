{
 "cells": [
  {
   "cell_type": "markdown",
   "metadata": {},
   "source": [
    "# Example-5 (Sample Weights)"
   ]
  },
  {
   "cell_type": "markdown",
   "metadata": {},
   "source": [
    "## Without weights"
   ]
  },
  {
   "cell_type": "code",
   "execution_count": 1,
   "metadata": {},
   "outputs": [],
   "source": [
    "from pycm import ConfusionMatrix\n",
    "y_test = [2, 0, 2, 2, 0, 1, 1, 2, 2, 0, 1, 2]\n",
    "y_pred = [0, 0, 2, 1, 0, 2, 1, 0, 2, 0, 2, 2]"
   ]
  },
  {
   "cell_type": "code",
   "execution_count": 2,
   "metadata": {},
   "outputs": [
    {
     "data": {
      "text/plain": [
       "pycm.ConfusionMatrix(classes: [0, 1, 2])"
      ]
     },
     "execution_count": 2,
     "metadata": {},
     "output_type": "execute_result"
    }
   ],
   "source": [
    "cm1=ConfusionMatrix(y_test, y_pred)\n",
    "cm1"
   ]
  },
  {
   "cell_type": "code",
   "execution_count": 3,
   "metadata": {},
   "outputs": [
    {
     "name": "stdout",
     "output_type": "stream",
     "text": [
      "Predict          0    1    2    \n",
      "Actual\n",
      "0                3    0    0    \n",
      "\n",
      "1                0    1    2    \n",
      "\n",
      "2                2    1    3    \n",
      "\n",
      "\n",
      "\n",
      "\n",
      "\n",
      "Overall Statistics : \n",
      "\n",
      "95% CI                                                           (0.30439,0.86228)\n",
      "AUNP                                                             0.66667\n",
      "AUNU                                                             0.69444\n",
      "Bennett_S                                                        0.375\n",
      "CBA                                                              0.47778\n",
      "Chi-Squared                                                      6.6\n",
      "Chi-Squared DF                                                   4\n",
      "Conditional Entropy                                              0.95915\n",
      "Cramer_V                                                         0.5244\n",
      "Cross Entropy                                                    1.59352\n",
      "Gwet_AC1                                                         0.38931\n",
      "Hamming Loss                                                     0.41667\n",
      "Joint Entropy                                                    2.45915\n",
      "KL Divergence                                                    0.09352\n",
      "Kappa                                                            0.35484\n",
      "Kappa 95% CI                                                     (-0.07708,0.78675)\n",
      "Kappa No Prevalence                                              0.16667\n",
      "Kappa Standard Error                                             0.22036\n",
      "Kappa Unbiased                                                   0.34426\n",
      "Lambda A                                                         0.16667\n",
      "Lambda B                                                         0.42857\n",
      "Mutual Information                                               0.52421\n",
      "NIR                                                              0.5\n",
      "Overall_ACC                                                      0.58333\n",
      "Overall_CEN                                                      0.46381\n",
      "Overall_J                                                        (1.225,0.40833)\n",
      "Overall_MCC                                                      0.36667\n",
      "Overall_MCEN                                                     0.51894\n",
      "Overall_RACC                                                     0.35417\n",
      "Overall_RACCU                                                    0.36458\n",
      "P-Value                                                          0.38721\n",
      "PPV_Macro                                                        0.56667\n",
      "PPV_Micro                                                        0.58333\n",
      "Phi-Squared                                                      0.55\n",
      "RCI                                                              0.34947\n",
      "RR                                                               4.0\n",
      "Reference Entropy                                                1.5\n",
      "Response Entropy                                                 1.48336\n",
      "Scott_PI                                                         0.34426\n",
      "Standard Error                                                   0.14232\n",
      "Strength_Of_Agreement(Altman)                                    Fair\n",
      "Strength_Of_Agreement(Cicchetti)                                 Poor\n",
      "Strength_Of_Agreement(Fleiss)                                    Poor\n",
      "Strength_Of_Agreement(Landis and Koch)                           Fair\n",
      "TPR_Macro                                                        0.61111\n",
      "TPR_Micro                                                        0.58333\n",
      "Zero-one Loss                                                    5\n",
      "\n",
      "Class Statistics :\n",
      "\n",
      "Classes                                                          0                       1                       2                       \n",
      "ACC(Accuracy)                                                    0.83333                 0.75                    0.58333                 \n",
      "AUC(Area under the roc curve)                                    0.88889                 0.61111                 0.58333                 \n",
      "BM(Informedness or bookmaker informedness)                       0.77778                 0.22222                 0.16667                 \n",
      "CEN(Confusion entropy)                                           0.25                    0.49658                 0.60442                 \n",
      "DOR(Diagnostic odds ratio)                                       None                    4.0                     2.0                     \n",
      "DP(Discriminant power)                                           None                    0.33193                 0.16597                 \n",
      "ERR(Error rate)                                                  0.16667                 0.25                    0.41667                 \n",
      "F0.5(F0.5 score)                                                 0.65217                 0.45455                 0.57692                 \n",
      "F1(F1 score - harmonic mean of precision and sensitivity)        0.75                    0.4                     0.54545                 \n",
      "F2(F2 score)                                                     0.88235                 0.35714                 0.51724                 \n",
      "FDR(False discovery rate)                                        0.4                     0.5                     0.4                     \n",
      "FN(False negative/miss/type 2 error)                             0                       2                       3                       \n",
      "FNR(Miss rate or false negative rate)                            0.0                     0.66667                 0.5                     \n",
      "FOR(False omission rate)                                         0.0                     0.2                     0.42857                 \n",
      "FP(False positive/type 1 error/false alarm)                      2                       1                       2                       \n",
      "FPR(Fall-out or false positive rate)                             0.22222                 0.11111                 0.33333                 \n",
      "G(G-measure geometric mean of precision and sensitivity)         0.7746                  0.40825                 0.54772                 \n",
      "IS(Information score)                                            1.26303                 1.0                     0.26303                 \n",
      "J(Jaccard index)                                                 0.6                     0.25                    0.375                   \n",
      "LR+(Positive likelihood ratio)                                   4.5                     3.0                     1.5                     \n",
      "LR-(Negative likelihood ratio)                                   0.0                     0.75                    0.75                    \n",
      "MCC(Matthews correlation coefficient)                            0.68313                 0.2582                  0.16903                 \n",
      "MCEN(Modified confusion entropy)                                 0.26439                 0.5                     0.6875                  \n",
      "MK(Markedness)                                                   0.6                     0.3                     0.17143                 \n",
      "N(Condition negative)                                            9                       9                       6                       \n",
      "NPV(Negative predictive value)                                   1.0                     0.8                     0.57143                 \n",
      "P(Condition positive or support)                                 3                       3                       6                       \n",
      "POP(Population)                                                  12                      12                      12                      \n",
      "PPV(Precision or positive predictive value)                      0.6                     0.5                     0.6                     \n",
      "PRE(Prevalence)                                                  0.25                    0.25                    0.5                     \n",
      "RACC(Random accuracy)                                            0.10417                 0.04167                 0.20833                 \n",
      "RACCU(Random accuracy unbiased)                                  0.11111                 0.0434                  0.21007                 \n",
      "TN(True negative/correct rejection)                              7                       8                       4                       \n",
      "TNR(Specificity or true negative rate)                           0.77778                 0.88889                 0.66667                 \n",
      "TON(Test outcome negative)                                       7                       10                      7                       \n",
      "TOP(Test outcome positive)                                       5                       2                       5                       \n",
      "TP(True positive/hit)                                            3                       1                       3                       \n",
      "TPR(Sensitivity, recall, hit rate, or true positive rate)        1.0                     0.33333                 0.5                     \n",
      "Y(Youden index)                                                  0.77778                 0.22222                 0.16667                 \n",
      "dInd(Distance index)                                             0.22222                 0.67586                 0.60093                 \n",
      "sInd(Similarity index)                                           0.84287                 0.52209                 0.57508                 \n",
      "\n"
     ]
    }
   ],
   "source": [
    "print(cm1)"
   ]
  },
  {
   "cell_type": "markdown",
   "metadata": {},
   "source": [
    "## With random weights"
   ]
  },
  {
   "cell_type": "code",
   "execution_count": 4,
   "metadata": {},
   "outputs": [],
   "source": [
    "from random import randint\n",
    "weights = [randint(1,10) for i in range(len(y_test))]\n",
    "weights[2]*=9"
   ]
  },
  {
   "cell_type": "code",
   "execution_count": 5,
   "metadata": {},
   "outputs": [
    {
     "data": {
      "text/plain": [
       "pycm.ConfusionMatrix(classes: [0, 1, 2])"
      ]
     },
     "execution_count": 5,
     "metadata": {},
     "output_type": "execute_result"
    }
   ],
   "source": [
    "cm2=ConfusionMatrix(y_test, y_pred, sample_weight = weights)\n",
    "cm2"
   ]
  },
  {
   "cell_type": "code",
   "execution_count": 6,
   "metadata": {},
   "outputs": [
    {
     "name": "stdout",
     "output_type": "stream",
     "text": [
      "Predict          0     1     2     \n",
      "Actual\n",
      "0                13    0     0     \n",
      "\n",
      "1                0     5     15    \n",
      "\n",
      "2                11    1     59    \n",
      "\n",
      "\n",
      "\n",
      "\n",
      "\n",
      "Overall Statistics : \n",
      "\n",
      "95% CI                                                           (0.65612,0.82465)\n",
      "AUNP                                                             0.70634\n",
      "AUNU                                                             0.74894\n",
      "Bennett_S                                                        0.61058\n",
      "CBA                                                              0.52965\n",
      "Chi-Squared                                                      66.34437\n",
      "Chi-Squared DF                                                   4\n",
      "Conditional Entropy                                              0.65123\n",
      "Cramer_V                                                         0.56477\n",
      "Cross Entropy                                                    1.39107\n",
      "Gwet_AC1                                                         0.66135\n",
      "Hamming Loss                                                     0.25962\n",
      "Joint Entropy                                                    1.85959\n",
      "KL Divergence                                                    0.18271\n",
      "Kappa                                                            0.45263\n",
      "Kappa 95% CI                                                     (0.27497,0.63029)\n",
      "Kappa No Prevalence                                              0.48077\n",
      "Kappa Standard Error                                             0.09064\n",
      "Kappa Unbiased                                                   0.4438\n",
      "Lambda A                                                         0.18182\n",
      "Lambda B                                                         0.43333\n",
      "Mutual Information                                               0.42374\n",
      "NIR                                                              0.68269\n",
      "Overall_ACC                                                      0.74038\n",
      "Overall_CEN                                                      0.31984\n",
      "Overall_J                                                        (1.46581,0.4886)\n",
      "Overall_MCC                                                      0.46803\n",
      "Overall_MCEN                                                     0.38514\n",
      "Overall_RACC                                                     0.5257\n",
      "Overall_RACCU                                                    0.53324\n",
      "P-Value                                                          0.12222\n",
      "PPV_Macro                                                        0.7241\n",
      "PPV_Micro                                                        0.74038\n",
      "Phi-Squared                                                      0.63793\n",
      "RCI                                                              0.35068\n",
      "RR                                                               34.66667\n",
      "Reference Entropy                                                1.20836\n",
      "Response Entropy                                                 1.07497\n",
      "Scott_PI                                                         0.4438\n",
      "Standard Error                                                   0.04299\n",
      "Strength_Of_Agreement(Altman)                                    Moderate\n",
      "Strength_Of_Agreement(Cicchetti)                                 Fair\n",
      "Strength_Of_Agreement(Fleiss)                                    Intermediate to Good\n",
      "Strength_Of_Agreement(Landis and Koch)                           Moderate\n",
      "TPR_Macro                                                        0.69366\n",
      "TPR_Micro                                                        0.74038\n",
      "Zero-one Loss                                                    27\n",
      "\n",
      "Class Statistics :\n",
      "\n",
      "Classes                                                          0                       1                       2                       \n",
      "ACC(Accuracy)                                                    0.89423                 0.84615                 0.74038                 \n",
      "AUC(Area under the roc curve)                                    0.93956                 0.61905                 0.68822                 \n",
      "BM(Informedness or bookmaker informedness)                       0.87912                 0.2381                  0.37644                 \n",
      "CEN(Confusion entropy)                                           0.26014                 0.3193                  0.33517                 \n",
      "DOR(Diagnostic odds ratio)                                       None                    27.66667                5.9                     \n",
      "DP(Discriminant power)                                           None                    0.79499                 0.42499                 \n",
      "ERR(Error rate)                                                  0.10577                 0.15385                 0.25962                 \n",
      "F0.5(F0.5 score)                                                 0.59633                 0.56818                 0.80381                 \n",
      "F1(F1 score - harmonic mean of precision and sensitivity)        0.7027                  0.38462                 0.81379                 \n",
      "F2(F2 score)                                                     0.85526                 0.2907                  0.82402                 \n",
      "FDR(False discovery rate)                                        0.45833                 0.16667                 0.2027                  \n",
      "FN(False negative/miss/type 2 error)                             0                       15                      12                      \n",
      "FNR(Miss rate or false negative rate)                            0.0                     0.75                    0.16901                 \n",
      "FOR(False omission rate)                                         0.0                     0.15306                 0.4                     \n",
      "FP(False positive/type 1 error/false alarm)                      11                      1                       15                      \n",
      "FPR(Fall-out or false positive rate)                             0.12088                 0.0119                  0.45455                 \n",
      "G(G-measure geometric mean of precision and sensitivity)         0.73598                 0.45644                 0.81397                 \n",
      "IS(Information score)                                            2.11548                 2.11548                 0.22388                 \n",
      "J(Jaccard index)                                                 0.54167                 0.2381                  0.68605                 \n",
      "LR+(Positive likelihood ratio)                                   8.27273                 21.0                    1.82817                 \n",
      "LR-(Negative likelihood ratio)                                   0.0                     0.75904                 0.30986                 \n",
      "MCC(Matthews correlation coefficient)                            0.69007                 0.40245                 0.38673                 \n",
      "MCEN(Modified confusion entropy)                                 0.25793                 0.27795                 0.44681                 \n",
      "MK(Markedness)                                                   0.54167                 0.68027                 0.3973                  \n",
      "N(Condition negative)                                            91                      84                      33                      \n",
      "NPV(Negative predictive value)                                   1.0                     0.84694                 0.6                     \n",
      "P(Condition positive or support)                                 13                      20                      71                      \n",
      "POP(Population)                                                  104                     104                     104                     \n",
      "PPV(Precision or positive predictive value)                      0.54167                 0.83333                 0.7973                  \n",
      "PRE(Prevalence)                                                  0.125                   0.19231                 0.68269                 \n",
      "RACC(Random accuracy)                                            0.02885                 0.01109                 0.48576                 \n",
      "RACCU(Random accuracy unbiased)                                  0.03164                 0.01562                 0.48597                 \n",
      "TN(True negative/correct rejection)                              80                      83                      18                      \n",
      "TNR(Specificity or true negative rate)                           0.87912                 0.9881                  0.54545                 \n",
      "TON(Test outcome negative)                                       80                      98                      30                      \n",
      "TOP(Test outcome positive)                                       24                      6                       74                      \n",
      "TP(True positive/hit)                                            13                      5                       59                      \n",
      "TPR(Sensitivity, recall, hit rate, or true positive rate)        1.0                     0.25                    0.83099                 \n",
      "Y(Youden index)                                                  0.87912                 0.2381                  0.37644                 \n",
      "dInd(Distance index)                                             0.12088                 0.75009                 0.48495                 \n",
      "sInd(Similarity index)                                           0.91453                 0.4696                  0.65709                 \n",
      "\n"
     ]
    }
   ],
   "source": [
    "print(cm2)"
   ]
  }
 ],
 "metadata": {
  "kernelspec": {
   "display_name": "Python 3",
   "language": "python",
   "name": "python3"
  },
  "language_info": {
   "codemirror_mode": {
    "name": "ipython",
    "version": 3
   },
   "file_extension": ".py",
   "mimetype": "text/x-python",
   "name": "python",
   "nbconvert_exporter": "python",
   "pygments_lexer": "ipython3",
   "version": "3.5.2"
  }
 },
 "nbformat": 4,
 "nbformat_minor": 2
}
