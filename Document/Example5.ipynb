{
 "cells": [
  {
   "cell_type": "markdown",
   "metadata": {},
   "source": [
    "# Example-5 (Sample weights)"
   ]
  },
  {
   "cell_type": "markdown",
   "metadata": {},
   "source": [
    "## Without weights"
   ]
  },
  {
   "cell_type": "code",
   "execution_count": 1,
   "metadata": {},
   "outputs": [],
   "source": [
    "from pycm import ConfusionMatrix\n",
    "y_test = [2, 0, 2, 2, 0, 1, 1, 2, 2, 0, 1, 2]\n",
    "y_pred = [0, 0, 2, 1, 0, 2, 1, 0, 2, 0, 2, 2]"
   ]
  },
  {
   "cell_type": "code",
   "execution_count": 2,
   "metadata": {},
   "outputs": [
    {
     "data": {
      "text/plain": [
       "pycm.ConfusionMatrix(classes: [0, 1, 2])"
      ]
     },
     "execution_count": 2,
     "metadata": {},
     "output_type": "execute_result"
    }
   ],
   "source": [
    "cm1=ConfusionMatrix(y_test, y_pred)\n",
    "cm1"
   ]
  },
  {
   "cell_type": "code",
   "execution_count": 3,
   "metadata": {},
   "outputs": [
    {
     "name": "stdout",
     "output_type": "stream",
     "text": [
      "Predict          0    1    2    \n",
      "Actual\n",
      "0                3    0    0    \n",
      "\n",
      "1                0    1    2    \n",
      "\n",
      "2                2    1    3    \n",
      "\n",
      "\n",
      "\n",
      "\n",
      "\n",
      "Overall Statistics : \n",
      "\n",
      "95% CI                                                           (0.30439,0.86228)\n",
      "AUNP                                                             0.66667\n",
      "AUNU                                                             0.69444\n",
      "Bennett S                                                        0.375\n",
      "CBA                                                              0.47778\n",
      "Chi-Squared                                                      6.6\n",
      "Chi-Squared DF                                                   4\n",
      "Conditional Entropy                                              0.95915\n",
      "Cramer V                                                         0.5244\n",
      "Cross Entropy                                                    1.59352\n",
      "Gwet AC1                                                         0.38931\n",
      "Hamming Loss                                                     0.41667\n",
      "Joint Entropy                                                    2.45915\n",
      "KL Divergence                                                    0.09352\n",
      "Kappa                                                            0.35484\n",
      "Kappa 95% CI                                                     (-0.07708,0.78675)\n",
      "Kappa No Prevalence                                              0.16667\n",
      "Kappa Standard Error                                             0.22036\n",
      "Kappa Unbiased                                                   0.34426\n",
      "Lambda A                                                         0.16667\n",
      "Lambda B                                                         0.42857\n",
      "Mutual Information                                               0.52421\n",
      "NIR                                                              0.5\n",
      "Overall ACC                                                      0.58333\n",
      "Overall CEN                                                      0.46381\n",
      "Overall J                                                        (1.225,0.40833)\n",
      "Overall MCC                                                      0.36667\n",
      "Overall MCEN                                                     0.51894\n",
      "Overall RACC                                                     0.35417\n",
      "Overall RACCU                                                    0.36458\n",
      "P-Value                                                          0.38721\n",
      "PPV Macro                                                        0.56667\n",
      "PPV Micro                                                        0.58333\n",
      "Phi-Squared                                                      0.55\n",
      "RCI                                                              0.34947\n",
      "RR                                                               4.0\n",
      "Reference Entropy                                                1.5\n",
      "Response Entropy                                                 1.48336\n",
      "SOA1(Landis & Koch)                                              Fair\n",
      "SOA2(Fleiss)                                                     Poor\n",
      "SOA3(Altman)                                                     Fair\n",
      "SOA4(Cicchetti)                                                  Poor\n",
      "Scott PI                                                         0.34426\n",
      "Standard Error                                                   0.14232\n",
      "TPR Macro                                                        0.61111\n",
      "TPR Micro                                                        0.58333\n",
      "Zero-one Loss                                                    5\n",
      "\n",
      "Class Statistics :\n",
      "\n",
      "Classes                                                          0                       1                       2                       \n",
      "ACC(Accuracy)                                                    0.83333                 0.75                    0.58333                 \n",
      "AUC(Area under the roc curve)                                    0.88889                 0.61111                 0.58333                 \n",
      "AUCI(Auc value interpretation)                                   Very Good               Fair                    Poor                    \n",
      "BM(Informedness or bookmaker informedness)                       0.77778                 0.22222                 0.16667                 \n",
      "CEN(Confusion entropy)                                           0.25                    0.49658                 0.60442                 \n",
      "DOR(Diagnostic odds ratio)                                       None                    4.0                     2.0                     \n",
      "DP(Discriminant power)                                           None                    0.33193                 0.16597                 \n",
      "DPI(Discriminant power interpretation)                           None                    Poor                    Poor                    \n",
      "ERR(Error rate)                                                  0.16667                 0.25                    0.41667                 \n",
      "F0.5(F0.5 score)                                                 0.65217                 0.45455                 0.57692                 \n",
      "F1(F1 score - harmonic mean of precision and sensitivity)        0.75                    0.4                     0.54545                 \n",
      "F2(F2 score)                                                     0.88235                 0.35714                 0.51724                 \n",
      "FDR(False discovery rate)                                        0.4                     0.5                     0.4                     \n",
      "FN(False negative/miss/type 2 error)                             0                       2                       3                       \n",
      "FNR(Miss rate or false negative rate)                            0.0                     0.66667                 0.5                     \n",
      "FOR(False omission rate)                                         0.0                     0.2                     0.42857                 \n",
      "FP(False positive/type 1 error/false alarm)                      2                       1                       2                       \n",
      "FPR(Fall-out or false positive rate)                             0.22222                 0.11111                 0.33333                 \n",
      "G(G-measure geometric mean of precision and sensitivity)         0.7746                  0.40825                 0.54772                 \n",
      "GI(Gini index)                                                   0.77778                 0.22222                 0.16667                 \n",
      "IS(Information score)                                            1.26303                 1.0                     0.26303                 \n",
      "J(Jaccard index)                                                 0.6                     0.25                    0.375                   \n",
      "LS(Lift score)                                                   2.4                     2.0                     1.2                     \n",
      "MCC(Matthews correlation coefficient)                            0.68313                 0.2582                  0.16903                 \n",
      "MCEN(Modified confusion entropy)                                 0.26439                 0.5                     0.6875                  \n",
      "MK(Markedness)                                                   0.6                     0.3                     0.17143                 \n",
      "N(Condition negative)                                            9                       9                       6                       \n",
      "NLR(Negative likelihood ratio)                                   0.0                     0.75                    0.75                    \n",
      "NPV(Negative predictive value)                                   1.0                     0.8                     0.57143                 \n",
      "P(Condition positive or support)                                 3                       3                       6                       \n",
      "PLR(Positive likelihood ratio)                                   4.5                     3.0                     1.5                     \n",
      "PLRI(Positive likelihood ratio interpretation)                   Poor                    Poor                    Poor                    \n",
      "POP(Population)                                                  12                      12                      12                      \n",
      "PPV(Precision or positive predictive value)                      0.6                     0.5                     0.6                     \n",
      "PRE(Prevalence)                                                  0.25                    0.25                    0.5                     \n",
      "RACC(Random accuracy)                                            0.10417                 0.04167                 0.20833                 \n",
      "RACCU(Random accuracy unbiased)                                  0.11111                 0.0434                  0.21007                 \n",
      "TN(True negative/correct rejection)                              7                       8                       4                       \n",
      "TNR(Specificity or true negative rate)                           0.77778                 0.88889                 0.66667                 \n",
      "TON(Test outcome negative)                                       7                       10                      7                       \n",
      "TOP(Test outcome positive)                                       5                       2                       5                       \n",
      "TP(True positive/hit)                                            3                       1                       3                       \n",
      "TPR(Sensitivity, recall, hit rate, or true positive rate)        1.0                     0.33333                 0.5                     \n",
      "Y(Youden index)                                                  0.77778                 0.22222                 0.16667                 \n",
      "dInd(Distance index)                                             0.22222                 0.67586                 0.60093                 \n",
      "sInd(Similarity index)                                           0.84287                 0.52209                 0.57508                 \n",
      "\n"
     ]
    }
   ],
   "source": [
    "print(cm1)"
   ]
  },
  {
   "cell_type": "markdown",
   "metadata": {},
   "source": [
    "## With random weights"
   ]
  },
  {
   "cell_type": "code",
   "execution_count": 4,
   "metadata": {},
   "outputs": [],
   "source": [
    "from random import randint\n",
    "weights = [randint(1,10) for i in range(len(y_test))]\n",
    "weights[2]*=9"
   ]
  },
  {
   "cell_type": "code",
   "execution_count": 5,
   "metadata": {},
   "outputs": [
    {
     "data": {
      "text/plain": [
       "pycm.ConfusionMatrix(classes: [0, 1, 2])"
      ]
     },
     "execution_count": 5,
     "metadata": {},
     "output_type": "execute_result"
    }
   ],
   "source": [
    "cm2=ConfusionMatrix(y_test, y_pred, sample_weight = weights)\n",
    "cm2"
   ]
  },
  {
   "cell_type": "code",
   "execution_count": 6,
   "metadata": {},
   "outputs": [
    {
     "name": "stdout",
     "output_type": "stream",
     "text": [
      "Predict          0     1     2     \n",
      "Actual\n",
      "0                26    0     0     \n",
      "\n",
      "1                0     7     7     \n",
      "\n",
      "2                17    8     13    \n",
      "\n",
      "\n",
      "\n",
      "\n",
      "\n",
      "Overall Statistics : \n",
      "\n",
      "95% CI                                                           (0.48058,0.6989)\n",
      "AUNP                                                             0.68654\n",
      "AUNU                                                             0.70253\n",
      "Bennett S                                                        0.38462\n",
      "CBA                                                              0.47114\n",
      "Chi-Squared                                                      40.91102\n",
      "Chi-Squared DF                                                   4\n",
      "Conditional Entropy                                              0.92088\n",
      "Cramer V                                                         0.5121\n",
      "Cross Entropy                                                    1.66986\n",
      "Gwet AC1                                                         0.4004\n",
      "Hamming Loss                                                     0.41026\n",
      "Joint Entropy                                                    2.39942\n",
      "KL Divergence                                                    0.19132\n",
      "Kappa                                                            0.37538\n",
      "Kappa 95% CI                                                     (0.20918,0.54158)\n",
      "Kappa No Prevalence                                              0.17949\n",
      "Kappa Standard Error                                             0.0848\n",
      "Kappa Unbiased                                                   0.35042\n",
      "Lambda A                                                         0.225\n",
      "Lambda B                                                         0.2\n",
      "Mutual Information                                               0.51361\n",
      "NIR                                                              0.48718\n",
      "Overall ACC                                                      0.58974\n",
      "Overall CEN                                                      0.44197\n",
      "Overall J                                                        (1.21172,0.40391)\n",
      "Overall MCC                                                      0.40671\n",
      "Overall MCEN                                                     0.49364\n",
      "Overall RACC                                                     0.3432\n",
      "Overall RACCU                                                    0.36843\n",
      "P-Value                                                          0.04451\n",
      "PPV Macro                                                        0.57377\n",
      "PPV Micro                                                        0.58974\n",
      "Phi-Squared                                                      0.5245\n",
      "RCI                                                              0.34738\n",
      "RR                                                               26.0\n",
      "Reference Entropy                                                1.47853\n",
      "Response Entropy                                                 1.43449\n",
      "SOA1(Landis & Koch)                                              Fair\n",
      "SOA2(Fleiss)                                                     Poor\n",
      "SOA3(Altman)                                                     Fair\n",
      "SOA4(Cicchetti)                                                  Poor\n",
      "Scott PI                                                         0.35042\n",
      "Standard Error                                                   0.05569\n",
      "TPR Macro                                                        0.61404\n",
      "TPR Micro                                                        0.58974\n",
      "Zero-one Loss                                                    32\n",
      "\n",
      "Class Statistics :\n",
      "\n",
      "Classes                                                          0                       1                       2                       \n",
      "ACC(Accuracy)                                                    0.78205                 0.80769                 0.58974                 \n",
      "AUC(Area under the roc curve)                                    0.83654                 0.6875                  0.58355                 \n",
      "AUCI(Auc value interpretation)                                   Very Good               Fair                    Poor                    \n",
      "BM(Informedness or bookmaker informedness)                       0.67308                 0.375                   0.16711                 \n",
      "CEN(Confusion entropy)                                           0.24897                 0.50376                 0.64066                 \n",
      "DOR(Diagnostic odds ratio)                                       None                    7.0                     2.45143                 \n",
      "DP(Discriminant power)                                           None                    0.46593                 0.2147                  \n",
      "DPI(Discriminant power interpretation)                           None                    Poor                    Poor                    \n",
      "ERR(Error rate)                                                  0.21795                 0.19231                 0.41026                 \n",
      "F0.5(F0.5 score)                                                 0.65657                 0.47297                 0.55085                 \n",
      "F1(F1 score - harmonic mean of precision and sensitivity)        0.75362                 0.48276                 0.44828                 \n",
      "F2(F2 score)                                                     0.88435                 0.49296                 0.37791                 \n",
      "FDR(False discovery rate)                                        0.39535                 0.53333                 0.35                    \n",
      "FN(False negative/miss/type 2 error)                             0                       7                       25                      \n",
      "FNR(Miss rate or false negative rate)                            0.0                     0.5                     0.65789                 \n",
      "FOR(False omission rate)                                         0.0                     0.11111                 0.43103                 \n",
      "FP(False positive/type 1 error/false alarm)                      17                      8                       7                       \n",
      "FPR(Fall-out or false positive rate)                             0.32692                 0.125                   0.175                   \n",
      "G(G-measure geometric mean of precision and sensitivity)         0.77759                 0.48305                 0.47156                 \n",
      "GI(Gini index)                                                   0.67308                 0.375                   0.16711                 \n",
      "IS(Information score)                                            0.85914                 1.37851                 0.41599                 \n",
      "J(Jaccard index)                                                 0.60465                 0.31818                 0.28889                 \n",
      "LS(Lift score)                                                   1.81395                 2.6                     1.33421                 \n",
      "MCC(Matthews correlation coefficient)                            0.63795                 0.36515                 0.19129                 \n",
      "MCEN(Modified confusion entropy)                                 0.26465                 0.52818                 0.69557                 \n",
      "MK(Markedness)                                                   0.60465                 0.35556                 0.21897                 \n",
      "N(Condition negative)                                            52                      64                      40                      \n",
      "NLR(Negative likelihood ratio)                                   0.0                     0.57143                 0.79745                 \n",
      "NPV(Negative predictive value)                                   1.0                     0.88889                 0.56897                 \n",
      "P(Condition positive or support)                                 26                      14                      38                      \n",
      "PLR(Positive likelihood ratio)                                   3.05882                 4.0                     1.95489                 \n",
      "PLRI(Positive likelihood ratio interpretation)                   Poor                    Poor                    Poor                    \n",
      "POP(Population)                                                  78                      78                      78                      \n",
      "PPV(Precision or positive predictive value)                      0.60465                 0.46667                 0.65                    \n",
      "PRE(Prevalence)                                                  0.33333                 0.17949                 0.48718                 \n",
      "RACC(Random accuracy)                                            0.18376                 0.03452                 0.12492                 \n",
      "RACCU(Random accuracy unbiased)                                  0.19564                 0.03456                 0.13823                 \n",
      "TN(True negative/correct rejection)                              35                      56                      33                      \n",
      "TNR(Specificity or true negative rate)                           0.67308                 0.875                   0.825                   \n",
      "TON(Test outcome negative)                                       35                      63                      58                      \n",
      "TOP(Test outcome positive)                                       43                      15                      20                      \n",
      "TP(True positive/hit)                                            26                      7                       13                      \n",
      "TPR(Sensitivity, recall, hit rate, or true positive rate)        1.0                     0.5                     0.34211                 \n",
      "Y(Youden index)                                                  0.67308                 0.375                   0.16711                 \n",
      "dInd(Distance index)                                             0.32692                 0.51539                 0.68077                 \n",
      "sInd(Similarity index)                                           0.76883                 0.63557                 0.51862                 \n",
      "\n"
     ]
    }
   ],
   "source": [
    "print(cm2)"
   ]
  }
 ],
 "metadata": {
  "kernelspec": {
   "display_name": "Python 3",
   "language": "python",
   "name": "python3"
  },
  "language_info": {
   "codemirror_mode": {
    "name": "ipython",
    "version": 3
   },
   "file_extension": ".py",
   "mimetype": "text/x-python",
   "name": "python",
   "nbconvert_exporter": "python",
   "pygments_lexer": "ipython3",
   "version": "3.5.2"
  }
 },
 "nbformat": 4,
 "nbformat_minor": 2
}
