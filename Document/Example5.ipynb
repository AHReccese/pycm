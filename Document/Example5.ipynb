{
 "cells": [
  {
   "cell_type": "markdown",
   "metadata": {},
   "source": [
    "# Example-5 (Sample Weights)"
   ]
  },
  {
   "cell_type": "markdown",
   "metadata": {},
   "source": [
    "## Without weights"
   ]
  },
  {
   "cell_type": "code",
   "execution_count": 1,
   "metadata": {},
   "outputs": [],
   "source": [
    "from pycm import ConfusionMatrix\n",
    "y_test = [2, 0, 2, 2, 0, 1, 1, 2, 2, 0, 1, 2]\n",
    "y_pred = [0, 0, 2, 1, 0, 2, 1, 0, 2, 0, 2, 2]"
   ]
  },
  {
   "cell_type": "code",
   "execution_count": 2,
   "metadata": {},
   "outputs": [
    {
     "data": {
      "text/plain": [
       "pycm.ConfusionMatrix(classes: [0, 1, 2])"
      ]
     },
     "execution_count": 2,
     "metadata": {},
     "output_type": "execute_result"
    }
   ],
   "source": [
    "cm1=ConfusionMatrix(y_test, y_pred)\n",
    "cm1"
   ]
  },
  {
   "cell_type": "code",
   "execution_count": 3,
   "metadata": {},
   "outputs": [
    {
     "name": "stdout",
     "output_type": "stream",
     "text": [
      "Predict          0    1    2    \n",
      "Actual\n",
      "0                3    0    0    \n",
      "1                0    1    2    \n",
      "2                2    1    3    \n",
      "\n",
      "\n",
      "\n",
      "\n",
      "Overall Statistics : \n",
      "\n",
      "95% CI                                                           (0.30439,0.86228)\n",
      "AUNP                                                             0.66667\n",
      "AUNU                                                             0.69444\n",
      "Bennett_S                                                        0.375\n",
      "CBA                                                              0.47778\n",
      "Chi-Squared                                                      6.6\n",
      "Chi-Squared DF                                                   4\n",
      "Conditional Entropy                                              0.95915\n",
      "Cramer_V                                                         0.5244\n",
      "Cross Entropy                                                    1.59352\n",
      "Gwet_AC1                                                         0.38931\n",
      "Hamming Loss                                                     0.41667\n",
      "Joint Entropy                                                    2.45915\n",
      "KL Divergence                                                    0.09352\n",
      "Kappa                                                            0.35484\n",
      "Kappa 95% CI                                                     (-0.07708,0.78675)\n",
      "Kappa No Prevalence                                              0.16667\n",
      "Kappa Standard Error                                             0.22036\n",
      "Kappa Unbiased                                                   0.34426\n",
      "Lambda A                                                         0.16667\n",
      "Lambda B                                                         0.42857\n",
      "Mutual Information                                               0.52421\n",
      "NIR                                                              0.5\n",
      "Overall_ACC                                                      0.58333\n",
      "Overall_CEN                                                      0.46381\n",
      "Overall_J                                                        (1.225,0.40833)\n",
      "Overall_MCC                                                      0.36667\n",
      "Overall_MCEN                                                     0.51894\n",
      "Overall_RACC                                                     0.35417\n",
      "Overall_RACCU                                                    0.36458\n",
      "P-Value                                                          0.38721\n",
      "PPV_Macro                                                        0.56667\n",
      "PPV_Micro                                                        0.58333\n",
      "Phi-Squared                                                      0.55\n",
      "RR                                                               4.0\n",
      "Reference Entropy                                                1.5\n",
      "Response Entropy                                                 1.48336\n",
      "Scott_PI                                                         0.34426\n",
      "Standard Error                                                   0.14232\n",
      "Strength_Of_Agreement(Altman)                                    Fair\n",
      "Strength_Of_Agreement(Cicchetti)                                 Poor\n",
      "Strength_Of_Agreement(Fleiss)                                    Poor\n",
      "Strength_Of_Agreement(Landis and Koch)                           Fair\n",
      "TPR_Macro                                                        0.61111\n",
      "TPR_Micro                                                        0.58333\n",
      "Zero-one Loss                                                    5\n",
      "\n",
      "Class Statistics :\n",
      "\n",
      "Classes                                                          0                       1                       2                       \n",
      "ACC(Accuracy)                                                    0.83333                 0.75                    0.58333                 \n",
      "AUC(Area under the roc curve)                                    0.88889                 0.61111                 0.58333                 \n",
      "BM(Informedness or bookmaker informedness)                       0.77778                 0.22222                 0.16667                 \n",
      "CEN(Confusion entropy)                                           0.25                    0.49658                 0.60442                 \n",
      "DOR(Diagnostic odds ratio)                                       None                    4.0                     2.0                     \n",
      "ERR(Error rate)                                                  0.16667                 0.25                    0.41667                 \n",
      "F0.5(F0.5 score)                                                 0.65217                 0.45455                 0.57692                 \n",
      "F1(F1 score - harmonic mean of precision and sensitivity)        0.75                    0.4                     0.54545                 \n",
      "F2(F2 score)                                                     0.88235                 0.35714                 0.51724                 \n",
      "FDR(False discovery rate)                                        0.4                     0.5                     0.4                     \n",
      "FN(False negative/miss/type 2 error)                             0                       2                       3                       \n",
      "FNR(Miss rate or false negative rate)                            0.0                     0.66667                 0.5                     \n",
      "FOR(False omission rate)                                         0.0                     0.2                     0.42857                 \n",
      "FP(False positive/type 1 error/false alarm)                      2                       1                       2                       \n",
      "FPR(Fall-out or false positive rate)                             0.22222                 0.11111                 0.33333                 \n",
      "G(G-measure geometric mean of precision and sensitivity)         0.7746                  0.40825                 0.54772                 \n",
      "IS(Information score)                                            1.26303                 1.0                     0.26303                 \n",
      "J(Jaccard index)                                                 0.6                     0.25                    0.375                   \n",
      "LR+(Positive likelihood ratio)                                   4.5                     3.0                     1.5                     \n",
      "LR-(Negative likelihood ratio)                                   0.0                     0.75                    0.75                    \n",
      "MCC(Matthews correlation coefficient)                            0.68313                 0.2582                  0.16903                 \n",
      "MCEN(Modified confusion entropy)                                 0.26439                 0.5                     0.6875                  \n",
      "MK(Markedness)                                                   0.6                     0.3                     0.17143                 \n",
      "N(Condition negative)                                            9                       9                       6                       \n",
      "NPV(Negative predictive value)                                   1.0                     0.8                     0.57143                 \n",
      "P(Condition positive or support)                                 3                       3                       6                       \n",
      "POP(Population)                                                  12                      12                      12                      \n",
      "PPV(Precision or positive predictive value)                      0.6                     0.5                     0.6                     \n",
      "PRE(Prevalence)                                                  0.25                    0.25                    0.5                     \n",
      "RACC(Random accuracy)                                            0.10417                 0.04167                 0.20833                 \n",
      "RACCU(Random accuracy unbiased)                                  0.11111                 0.0434                  0.21007                 \n",
      "TN(True negative/correct rejection)                              7                       8                       4                       \n",
      "TNR(Specificity or true negative rate)                           0.77778                 0.88889                 0.66667                 \n",
      "TON(Test outcome negative)                                       7                       10                      7                       \n",
      "TOP(Test outcome positive)                                       5                       2                       5                       \n",
      "TP(True positive/hit)                                            3                       1                       3                       \n",
      "TPR(Sensitivity, recall, hit rate, or true positive rate)        1.0                     0.33333                 0.5                     \n",
      "dInd(Distance index)                                             0.22222                 0.67586                 0.60093                 \n",
      "sInd(Similarity index)                                           0.84287                 0.52209                 0.57508                 \n",
      "\n"
     ]
    }
   ],
   "source": [
    "print(cm1)"
   ]
  },
  {
   "cell_type": "markdown",
   "metadata": {},
   "source": [
    "## With random weights"
   ]
  },
  {
   "cell_type": "code",
   "execution_count": 4,
   "metadata": {},
   "outputs": [],
   "source": [
    "from random import randint\n",
    "weights = [randint(1,10) for i in range(len(y_test))]\n",
    "weights[2]*=9"
   ]
  },
  {
   "cell_type": "code",
   "execution_count": 5,
   "metadata": {},
   "outputs": [
    {
     "data": {
      "text/plain": [
       "pycm.ConfusionMatrix(classes: [0, 1, 2])"
      ]
     },
     "execution_count": 5,
     "metadata": {},
     "output_type": "execute_result"
    }
   ],
   "source": [
    "cm2=ConfusionMatrix(y_test, y_pred, sample_weight = weights)\n",
    "cm2"
   ]
  },
  {
   "cell_type": "code",
   "execution_count": 6,
   "metadata": {},
   "outputs": [
    {
     "name": "stdout",
     "output_type": "stream",
     "text": [
      "Predict          0    1    2    \n",
      "Actual\n",
      "0                18   0    0    \n",
      "1                0    8    14   \n",
      "2                14   5    16   \n",
      "\n",
      "\n",
      "\n",
      "\n",
      "Overall Statistics : \n",
      "\n",
      "95% CI                                                           (0.44766,0.67234)\n",
      "AUNP                                                             0.65502\n",
      "AUNU                                                             0.68847\n",
      "Bennett_S                                                        0.34\n",
      "CBA                                                              0.46109\n",
      "Chi-Squared                                                      41.77504\n",
      "Chi-Squared DF                                                   4\n",
      "Conditional Entropy                                              0.95222\n",
      "Cramer_V                                                         0.52773\n",
      "Cross Entropy                                                    1.65347\n",
      "Gwet_AC1                                                         0.34975\n",
      "Hamming Loss                                                     0.44\n",
      "Joint Entropy                                                    2.4785\n",
      "KL Divergence                                                    0.1272\n",
      "Kappa                                                            0.33342\n",
      "Kappa 95% CI                                                     (0.16323,0.50362)\n",
      "Kappa No Prevalence                                              0.12\n",
      "Kappa Standard Error                                             0.08683\n",
      "Kappa Unbiased                                                   0.31959\n",
      "Lambda A                                                         0.175\n",
      "Lambda B                                                         0.37209\n",
      "Mutual Information                                               0.5391\n",
      "NIR                                                              0.46667\n",
      "Overall_ACC                                                      0.56\n",
      "Overall_CEN                                                      0.46259\n",
      "Overall_J                                                        (1.18533,0.39511)\n",
      "Overall_MCC                                                      0.34757\n",
      "Overall_MCEN                                                     0.50554\n",
      "Overall_RACC                                                     0.33991\n",
      "Overall_RACCU                                                    0.35333\n",
      "P-Value                                                          0.06638\n",
      "PPV_Macro                                                        0.57041\n",
      "PPV_Micro                                                        0.56\n",
      "Phi-Squared                                                      0.557\n",
      "RR                                                               25.0\n",
      "Reference Entropy                                                1.52627\n",
      "Response Entropy                                                 1.49132\n",
      "Scott_PI                                                         0.31959\n",
      "Standard Error                                                   0.05732\n",
      "Strength_Of_Agreement(Altman)                                    Fair\n",
      "Strength_Of_Agreement(Cicchetti)                                 Poor\n",
      "Strength_Of_Agreement(Fleiss)                                    Poor\n",
      "Strength_Of_Agreement(Landis and Koch)                           Fair\n",
      "TPR_Macro                                                        0.60693\n",
      "TPR_Micro                                                        0.56\n",
      "Zero-one Loss                                                    33\n",
      "\n",
      "Class Statistics :\n",
      "\n",
      "Classes                                                          0                       1                       2                       \n",
      "ACC(Accuracy)                                                    0.81333                 0.74667                 0.56                    \n",
      "AUC(Area under the roc curve)                                    0.87719                 0.63465                 0.55357                 \n",
      "BM(Informedness or bookmaker informedness)                       0.75439                 0.2693                  0.10714                 \n",
      "CEN(Confusion entropy)                                           0.25711                 0.46491                 0.6194                  \n",
      "DOR(Diagnostic odds ratio)                                       None                    5.48571                 1.56391                 \n",
      "ERR(Error rate)                                                  0.18667                 0.25333                 0.44                    \n",
      "F0.5(F0.5 score)                                                 0.61644                 0.54054                 0.51613                 \n",
      "F1(F1 score - harmonic mean of precision and sensitivity)        0.72                    0.45714                 0.49231                 \n",
      "F2(F2 score)                                                     0.86538                 0.39604                 0.47059                 \n",
      "FDR(False discovery rate)                                        0.4375                  0.38462                 0.46667                 \n",
      "FN(False negative/miss/type 2 error)                             0                       14                      19                      \n",
      "FNR(Miss rate or false negative rate)                            0.0                     0.63636                 0.54286                 \n",
      "FOR(False omission rate)                                         0.0                     0.22581                 0.42222                 \n",
      "FP(False positive/type 1 error/false alarm)                      14                      5                       14                      \n",
      "FPR(Fall-out or false positive rate)                             0.24561                 0.09434                 0.35                    \n",
      "G(G-measure geometric mean of precision and sensitivity)         0.75                    0.47305                 0.49377                 \n",
      "IS(Information score)                                            1.22882                 1.06895                 0.19265                 \n",
      "J(Jaccard index)                                                 0.5625                  0.2963                  0.32653                 \n",
      "LR+(Positive likelihood ratio)                                   4.07143                 3.85455                 1.30612                 \n",
      "LR-(Negative likelihood ratio)                                   0.0                     0.70265                 0.83516                 \n",
      "MCC(Matthews correlation coefficient)                            0.65142                 0.3239                  0.10911                 \n",
      "MCEN(Modified confusion entropy)                                 0.26089                 0.47093                 0.68439                 \n",
      "MK(Markedness)                                                   0.5625                  0.38958                 0.11111                 \n",
      "N(Condition negative)                                            57                      53                      40                      \n",
      "NPV(Negative predictive value)                                   1.0                     0.77419                 0.57778                 \n",
      "P(Condition positive or support)                                 18                      22                      35                      \n",
      "POP(Population)                                                  75                      75                      75                      \n",
      "PPV(Precision or positive predictive value)                      0.5625                  0.61538                 0.53333                 \n",
      "PRE(Prevalence)                                                  0.24                    0.29333                 0.46667                 \n",
      "RACC(Random accuracy)                                            0.1024                  0.05084                 0.18667                 \n",
      "RACCU(Random accuracy unbiased)                                  0.11111                 0.05444                 0.18778                 \n",
      "TN(True negative/correct rejection)                              43                      48                      26                      \n",
      "TNR(Specificity or true negative rate)                           0.75439                 0.90566                 0.65                    \n",
      "TON(Test outcome negative)                                       43                      62                      45                      \n",
      "TOP(Test outcome positive)                                       32                      13                      30                      \n",
      "TP(True positive/hit)                                            18                      8                       16                      \n",
      "TPR(Sensitivity, recall, hit rate, or true positive rate)        1.0                     0.36364                 0.45714                 \n",
      "dInd(Distance index)                                             0.24561                 0.64332                 0.64591                 \n",
      "sInd(Similarity index)                                           0.82632                 0.54511                 0.54328                 \n",
      "\n"
     ]
    }
   ],
   "source": [
    "print(cm2)"
   ]
  }
 ],
 "metadata": {
  "kernelspec": {
   "display_name": "Python 3",
   "language": "python",
   "name": "python3"
  },
  "language_info": {
   "codemirror_mode": {
    "name": "ipython",
    "version": 3
   },
   "file_extension": ".py",
   "mimetype": "text/x-python",
   "name": "python",
   "nbconvert_exporter": "python",
   "pygments_lexer": "ipython3",
   "version": "3.5.2"
  }
 },
 "nbformat": 4,
 "nbformat_minor": 2
}
