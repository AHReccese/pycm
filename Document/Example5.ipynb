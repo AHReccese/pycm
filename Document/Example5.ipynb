{
 "cells": [
  {
   "cell_type": "markdown",
   "metadata": {},
   "source": [
    "# Example-5 (Sample Weights)"
   ]
  },
  {
   "cell_type": "markdown",
   "metadata": {},
   "source": [
    "## Without weights"
   ]
  },
  {
   "cell_type": "code",
   "execution_count": 1,
   "metadata": {},
   "outputs": [],
   "source": [
    "from pycm import ConfusionMatrix\n",
    "y_test = [2, 0, 2, 2, 0, 1, 1, 2, 2, 0, 1, 2]\n",
    "y_pred = [0, 0, 2, 1, 0, 2, 1, 0, 2, 0, 2, 2]"
   ]
  },
  {
   "cell_type": "code",
   "execution_count": 2,
   "metadata": {},
   "outputs": [
    {
     "data": {
      "text/plain": [
       "pycm.ConfusionMatrix(classes: [0, 1, 2])"
      ]
     },
     "execution_count": 2,
     "metadata": {},
     "output_type": "execute_result"
    }
   ],
   "source": [
    "cm1=ConfusionMatrix(y_test, y_pred)\n",
    "cm1"
   ]
  },
  {
   "cell_type": "code",
   "execution_count": 3,
   "metadata": {},
   "outputs": [
    {
     "name": "stdout",
     "output_type": "stream",
     "text": [
      "Predict          0    1    2    \n",
      "Actual\n",
      "0                3    0    0    \n",
      "1                0    1    2    \n",
      "2                2    1    3    \n",
      "\n",
      "\n",
      "\n",
      "\n",
      "Overall Statistics : \n",
      "\n",
      "95% CI                                                           (0.30439,0.86228)\n",
      "Bennett_S                                                        0.375\n",
      "Chi-Squared                                                      6.6\n",
      "Chi-Squared DF                                                   4\n",
      "Conditional Entropy                                              0.95915\n",
      "Cramer_V                                                         0.5244\n",
      "Cross Entropy                                                    1.59352\n",
      "Gwet_AC1                                                         0.38931\n",
      "Hamming Loss                                                     0.41667\n",
      "Joint Entropy                                                    2.45915\n",
      "KL Divergence                                                    0.09352\n",
      "Kappa                                                            0.35484\n",
      "Kappa 95% CI                                                     (-0.07708,0.78675)\n",
      "Kappa No Prevalence                                              0.16667\n",
      "Kappa Standard Error                                             0.22036\n",
      "Kappa Unbiased                                                   0.34426\n",
      "Lambda A                                                         0.16667\n",
      "Lambda B                                                         0.42857\n",
      "Mutual Information                                               0.52421\n",
      "NIR                                                              0.5\n",
      "Overall_ACC                                                      0.58333\n",
      "Overall_J                                                        (1.225,0.40833)\n",
      "Overall_RACC                                                     0.35417\n",
      "Overall_RACCU                                                    0.36458\n",
      "P-Value                                                          0.38721\n",
      "PPV_Macro                                                        0.56667\n",
      "PPV_Micro                                                        0.58333\n",
      "Phi-Squared                                                      0.55\n",
      "Reference Entropy                                                1.5\n",
      "Response Entropy                                                 1.48336\n",
      "Scott_PI                                                         0.34426\n",
      "Standard Error                                                   0.14232\n",
      "Strength_Of_Agreement(Altman)                                    Fair\n",
      "Strength_Of_Agreement(Cicchetti)                                 Poor\n",
      "Strength_Of_Agreement(Fleiss)                                    Poor\n",
      "Strength_Of_Agreement(Landis and Koch)                           Fair\n",
      "TPR_Macro                                                        0.61111\n",
      "TPR_Micro                                                        0.58333\n",
      "Zero-one Loss                                                    5\n",
      "\n",
      "Class Statistics :\n",
      "\n",
      "Classes                                                          0                       1                       2                       \n",
      "ACC(Accuracy)                                                    0.83333                 0.75                    0.58333                 \n",
      "BM(Informedness or bookmaker informedness)                       0.77778                 0.22222                 0.16667                 \n",
      "DOR(Diagnostic odds ratio)                                       None                    4.0                     2.0                     \n",
      "ERR(Error rate)                                                  0.16667                 0.25                    0.41667                 \n",
      "F0.5(F0.5 score)                                                 0.65217                 0.45455                 0.57692                 \n",
      "F1(F1 score - harmonic mean of precision and sensitivity)        0.75                    0.4                     0.54545                 \n",
      "F2(F2 score)                                                     0.88235                 0.35714                 0.51724                 \n",
      "FDR(False discovery rate)                                        0.4                     0.5                     0.4                     \n",
      "FN(False negative/miss/type 2 error)                             0                       2                       3                       \n",
      "FNR(Miss rate or false negative rate)                            0.0                     0.66667                 0.5                     \n",
      "FOR(False omission rate)                                         0.0                     0.2                     0.42857                 \n",
      "FP(False positive/type 1 error/false alarm)                      2                       1                       2                       \n",
      "FPR(Fall-out or false positive rate)                             0.22222                 0.11111                 0.33333                 \n",
      "G(G-measure geometric mean of precision and sensitivity)         0.7746                  0.40825                 0.54772                 \n",
      "J(Jaccard index)                                                 0.6                     0.25                    0.375                   \n",
      "LR+(Positive likelihood ratio)                                   4.5                     3.0                     1.5                     \n",
      "LR-(Negative likelihood ratio)                                   0.0                     0.75                    0.75                    \n",
      "MCC(Matthews correlation coefficient)                            0.68313                 0.2582                  0.16903                 \n",
      "MK(Markedness)                                                   0.6                     0.3                     0.17143                 \n",
      "N(Condition negative)                                            9                       9                       6                       \n",
      "NPV(Negative predictive value)                                   1.0                     0.8                     0.57143                 \n",
      "P(Condition positive or support)                                 3                       3                       6                       \n",
      "POP(Population)                                                  12                      12                      12                      \n",
      "PPV(Precision or positive predictive value)                      0.6                     0.5                     0.6                     \n",
      "PRE(Prevalence)                                                  0.25                    0.25                    0.5                     \n",
      "RACC(Random accuracy)                                            0.10417                 0.04167                 0.20833                 \n",
      "RACCU(Random accuracy unbiased)                                  0.11111                 0.0434                  0.21007                 \n",
      "TN(True negative/correct rejection)                              7                       8                       4                       \n",
      "TNR(Specificity or true negative rate)                           0.77778                 0.88889                 0.66667                 \n",
      "TON(Test outcome negative)                                       7                       10                      7                       \n",
      "TOP(Test outcome positive)                                       5                       2                       5                       \n",
      "TP(True positive/hit)                                            3                       1                       3                       \n",
      "TPR(Sensitivity, recall, hit rate, or true positive rate)        1.0                     0.33333                 0.5                     \n",
      "\n"
     ]
    }
   ],
   "source": [
    "print(cm1)"
   ]
  },
  {
   "cell_type": "markdown",
   "metadata": {},
   "source": [
    "## With random weights"
   ]
  },
  {
   "cell_type": "code",
   "execution_count": 4,
   "metadata": {},
   "outputs": [],
   "source": [
    "from random import randint\n",
    "weights = [randint(1,10) for i in range(len(y_test))]\n",
    "weights[2]*=9"
   ]
  },
  {
   "cell_type": "code",
   "execution_count": 5,
   "metadata": {},
   "outputs": [
    {
     "data": {
      "text/plain": [
       "pycm.ConfusionMatrix(classes: [0, 1, 2])"
      ]
     },
     "execution_count": 5,
     "metadata": {},
     "output_type": "execute_result"
    }
   ],
   "source": [
    "cm2=ConfusionMatrix(y_test, y_pred, sample_weight = weights)\n",
    "cm2"
   ]
  },
  {
   "cell_type": "code",
   "execution_count": 6,
   "metadata": {},
   "outputs": [
    {
     "name": "stdout",
     "output_type": "stream",
     "text": [
      "Predict          0    1    2    \n",
      "Actual\n",
      "0                17   0    0    \n",
      "1                0    6    14   \n",
      "2                3    9    91   \n",
      "\n",
      "\n",
      "\n",
      "\n",
      "Overall Statistics : \n",
      "\n",
      "95% CI                                                           (0.74987,0.8787)\n",
      "Bennett_S                                                        0.72143\n",
      "Chi-Squared                                                      124.01553\n",
      "Chi-Squared DF                                                   4\n",
      "Conditional Entropy                                              0.57744\n",
      "Cramer_V                                                         0.66552\n",
      "Cross Entropy                                                    1.10658\n",
      "Gwet_AC1                                                         0.76565\n",
      "Hamming Loss                                                     0.18571\n",
      "Joint Entropy                                                    1.67362\n",
      "KL Divergence                                                    0.01041\n",
      "Kappa                                                            0.5531\n",
      "Kappa 95% CI                                                     (0.39809,0.70811)\n",
      "Kappa No Prevalence                                              0.62857\n",
      "Kappa Standard Error                                             0.07909\n",
      "Kappa Unbiased                                                   0.55258\n",
      "Lambda A                                                         0.37838\n",
      "Lambda B                                                         0.48571\n",
      "Mutual Information                                               0.48014\n",
      "NIR                                                              0.73571\n",
      "Overall_ACC                                                      0.81429\n",
      "Overall_J                                                        (1.83467,0.61156)\n",
      "Overall_RACC                                                     0.58444\n",
      "Overall_RACCU                                                    0.58492\n",
      "P-Value                                                          0.01934\n",
      "PPV_Macro                                                        0.70556\n",
      "PPV_Micro                                                        0.81429\n",
      "Phi-Squared                                                      0.88583\n",
      "Reference Entropy                                                1.09618\n",
      "Response Entropy                                                 1.05759\n",
      "Scott_PI                                                         0.55258\n",
      "Standard Error                                                   0.03287\n",
      "Strength_Of_Agreement(Altman)                                    Moderate\n",
      "Strength_Of_Agreement(Cicchetti)                                 Fair\n",
      "Strength_Of_Agreement(Fleiss)                                    Intermediate to Good\n",
      "Strength_Of_Agreement(Landis and Koch)                           Moderate\n",
      "TPR_Macro                                                        0.72783\n",
      "TPR_Micro                                                        0.81429\n",
      "Zero-one Loss                                                    26\n",
      "\n",
      "Class Statistics :\n",
      "\n",
      "Classes                                                          0                       1                       2                       \n",
      "ACC(Accuracy)                                                    0.97857                 0.83571                 0.81429                 \n",
      "BM(Informedness or bookmaker informedness)                       0.97561                 0.225                   0.50512                 \n",
      "DOR(Diagnostic odds ratio)                                       None                    5.28571                 12.45833                \n",
      "ERR(Error rate)                                                  0.02143                 0.16429                 0.18571                 \n",
      "F0.5(F0.5 score)                                                 0.87629                 0.375                   0.86998                 \n",
      "F1(F1 score - harmonic mean of precision and sensitivity)        0.91892                 0.34286                 0.875                   \n",
      "F2(F2 score)                                                     0.96591                 0.31579                 0.88008                 \n",
      "FDR(False discovery rate)                                        0.15                    0.6                     0.13333                 \n",
      "FN(False negative/miss/type 2 error)                             0                       14                      12                      \n",
      "FNR(Miss rate or false negative rate)                            0.0                     0.7                     0.1165                  \n",
      "FOR(False omission rate)                                         0.0                     0.112                   0.34286                 \n",
      "FP(False positive/type 1 error/false alarm)                      3                       9                       14                      \n",
      "FPR(Fall-out or false positive rate)                             0.02439                 0.075                   0.37838                 \n",
      "G(G-measure geometric mean of precision and sensitivity)         0.92195                 0.34641                 0.87504                 \n",
      "J(Jaccard index)                                                 0.85                    0.2069                  0.77778                 \n",
      "LR+(Positive likelihood ratio)                                   41.0                    4.0                     2.33495                 \n",
      "LR-(Negative likelihood ratio)                                   0.0                     0.75676                 0.18742                 \n",
      "MCC(Matthews correlation coefficient)                            0.91064                 0.25456                 0.51438                 \n",
      "MK(Markedness)                                                   0.85                    0.288                   0.52381                 \n",
      "N(Condition negative)                                            123                     120                     37                      \n",
      "NPV(Negative predictive value)                                   1.0                     0.888                   0.65714                 \n",
      "P(Condition positive or support)                                 17                      20                      103                     \n",
      "POP(Population)                                                  140                     140                     140                     \n",
      "PPV(Precision or positive predictive value)                      0.85                    0.4                     0.86667                 \n",
      "PRE(Prevalence)                                                  0.12143                 0.14286                 0.73571                 \n",
      "RACC(Random accuracy)                                            0.01735                 0.01531                 0.55179                 \n",
      "RACCU(Random accuracy unbiased)                                  0.01746                 0.01562                 0.55184                 \n",
      "TN(True negative/correct rejection)                              120                     111                     23                      \n",
      "TNR(Specificity or true negative rate)                           0.97561                 0.925                   0.62162                 \n",
      "TON(Test outcome negative)                                       120                     125                     35                      \n",
      "TOP(Test outcome positive)                                       20                      15                      105                     \n",
      "TP(True positive/hit)                                            17                      6                       91                      \n",
      "TPR(Sensitivity, recall, hit rate, or true positive rate)        1.0                     0.3                     0.8835                  \n",
      "\n"
     ]
    }
   ],
   "source": [
    "print(cm2)"
   ]
  }
 ],
 "metadata": {
  "kernelspec": {
   "display_name": "Python 3",
   "language": "python",
   "name": "python3"
  },
  "language_info": {
   "codemirror_mode": {
    "name": "ipython",
    "version": 3
   },
   "file_extension": ".py",
   "mimetype": "text/x-python",
   "name": "python",
   "nbconvert_exporter": "python",
   "pygments_lexer": "ipython3",
   "version": "3.5.2"
  }
 },
 "nbformat": 4,
 "nbformat_minor": 2
}
