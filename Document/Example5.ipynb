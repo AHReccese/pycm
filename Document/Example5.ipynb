{
 "cells": [
  {
   "cell_type": "markdown",
   "metadata": {},
   "source": [
    "# Example-5 (Sample weights)"
   ]
  },
  {
   "cell_type": "markdown",
   "metadata": {},
   "source": [
    "## Without weights"
   ]
  },
  {
   "cell_type": "code",
   "execution_count": 1,
   "metadata": {},
   "outputs": [],
   "source": [
    "from pycm import ConfusionMatrix\n",
    "y_test = [2, 0, 2, 2, 0, 1, 1, 2, 2, 0, 1, 2]\n",
    "y_pred = [0, 0, 2, 1, 0, 2, 1, 0, 2, 0, 2, 2]"
   ]
  },
  {
   "cell_type": "code",
   "execution_count": 2,
   "metadata": {},
   "outputs": [
    {
     "data": {
      "text/plain": [
       "pycm.ConfusionMatrix(classes: [0, 1, 2])"
      ]
     },
     "execution_count": 2,
     "metadata": {},
     "output_type": "execute_result"
    }
   ],
   "source": [
    "cm1=ConfusionMatrix(y_test, y_pred)\n",
    "cm1"
   ]
  },
  {
   "cell_type": "code",
   "execution_count": 3,
   "metadata": {},
   "outputs": [
    {
     "name": "stdout",
     "output_type": "stream",
     "text": [
      "Predict          0    1    2    \n",
      "Actual\n",
      "0                3    0    0    \n",
      "\n",
      "1                0    1    2    \n",
      "\n",
      "2                2    1    3    \n",
      "\n",
      "\n",
      "\n",
      "\n",
      "\n",
      "Overall Statistics : \n",
      "\n",
      "95% CI                                                            (0.30439,0.86228)\n",
      "AUNP                                                              0.66667\n",
      "AUNU                                                              0.69444\n",
      "Bennett S                                                         0.375\n",
      "CBA                                                               0.47778\n",
      "Chi-Squared                                                       6.6\n",
      "Chi-Squared DF                                                    4\n",
      "Conditional Entropy                                               0.95915\n",
      "Cramer V                                                          0.5244\n",
      "Cross Entropy                                                     1.59352\n",
      "Gwet AC1                                                          0.38931\n",
      "Hamming Loss                                                      0.41667\n",
      "Joint Entropy                                                     2.45915\n",
      "KL Divergence                                                     0.09352\n",
      "Kappa                                                             0.35484\n",
      "Kappa 95% CI                                                      (-0.07708,0.78675)\n",
      "Kappa No Prevalence                                               0.16667\n",
      "Kappa Standard Error                                              0.22036\n",
      "Kappa Unbiased                                                    0.34426\n",
      "Lambda A                                                          0.16667\n",
      "Lambda B                                                          0.42857\n",
      "Mutual Information                                                0.52421\n",
      "NIR                                                               0.5\n",
      "Overall ACC                                                       0.58333\n",
      "Overall CEN                                                       0.46381\n",
      "Overall J                                                         (1.225,0.40833)\n",
      "Overall MCC                                                       0.36667\n",
      "Overall MCEN                                                      0.51894\n",
      "Overall RACC                                                      0.35417\n",
      "Overall RACCU                                                     0.36458\n",
      "P-Value                                                           0.38721\n",
      "PPV Macro                                                         0.56667\n",
      "PPV Micro                                                         0.58333\n",
      "Phi-Squared                                                       0.55\n",
      "RCI                                                               0.34947\n",
      "RR                                                                4.0\n",
      "Reference Entropy                                                 1.5\n",
      "Response Entropy                                                  1.48336\n",
      "SOA1(Landis & Koch)                                               Fair\n",
      "SOA2(Fleiss)                                                      Poor\n",
      "SOA3(Altman)                                                      Fair\n",
      "SOA4(Cicchetti)                                                   Poor\n",
      "Scott PI                                                          0.34426\n",
      "Standard Error                                                    0.14232\n",
      "TPR Macro                                                         0.61111\n",
      "TPR Micro                                                         0.58333\n",
      "Zero-one Loss                                                     5\n",
      "\n",
      "Class Statistics :\n",
      "\n",
      "Classes                                                           0                       1                       2                       \n",
      "ACC(Accuracy)                                                     0.83333                 0.75                    0.58333                 \n",
      "AM(Difference between automatic and manual classification)        2                       -1                      -1                      \n",
      "AUC(Area under the roc curve)                                     0.88889                 0.61111                 0.58333                 \n",
      "AUCI(Auc value interpretation)                                    Very Good               Fair                    Poor                    \n",
      "BM(Informedness or bookmaker informedness)                        0.77778                 0.22222                 0.16667                 \n",
      "CEN(Confusion entropy)                                            0.25                    0.49658                 0.60442                 \n",
      "DOR(Diagnostic odds ratio)                                        None                    4.0                     2.0                     \n",
      "DP(Discriminant power)                                            None                    0.33193                 0.16597                 \n",
      "DPI(Discriminant power interpretation)                            None                    Poor                    Poor                    \n",
      "ERR(Error rate)                                                   0.16667                 0.25                    0.41667                 \n",
      "F0.5(F0.5 score)                                                  0.65217                 0.45455                 0.57692                 \n",
      "F1(F1 score - harmonic mean of precision and sensitivity)         0.75                    0.4                     0.54545                 \n",
      "F2(F2 score)                                                      0.88235                 0.35714                 0.51724                 \n",
      "FDR(False discovery rate)                                         0.4                     0.5                     0.4                     \n",
      "FN(False negative/miss/type 2 error)                              0                       2                       3                       \n",
      "FNR(Miss rate or false negative rate)                             0.0                     0.66667                 0.5                     \n",
      "FOR(False omission rate)                                          0.0                     0.2                     0.42857                 \n",
      "FP(False positive/type 1 error/false alarm)                       2                       1                       2                       \n",
      "FPR(Fall-out or false positive rate)                              0.22222                 0.11111                 0.33333                 \n",
      "G(G-measure geometric mean of precision and sensitivity)          0.7746                  0.40825                 0.54772                 \n",
      "GI(Gini index)                                                    0.77778                 0.22222                 0.16667                 \n",
      "IS(Information score)                                             1.26303                 1.0                     0.26303                 \n",
      "J(Jaccard index)                                                  0.6                     0.25                    0.375                   \n",
      "LS(Lift score)                                                    2.4                     2.0                     1.2                     \n",
      "MCC(Matthews correlation coefficient)                             0.68313                 0.2582                  0.16903                 \n",
      "MCEN(Modified confusion entropy)                                  0.26439                 0.5                     0.6875                  \n",
      "MK(Markedness)                                                    0.6                     0.3                     0.17143                 \n",
      "N(Condition negative)                                             9                       9                       6                       \n",
      "NLR(Negative likelihood ratio)                                    0.0                     0.75                    0.75                    \n",
      "NPV(Negative predictive value)                                    1.0                     0.8                     0.57143                 \n",
      "P(Condition positive or support)                                  3                       3                       6                       \n",
      "PLR(Positive likelihood ratio)                                    4.5                     3.0                     1.5                     \n",
      "PLRI(Positive likelihood ratio interpretation)                    Poor                    Poor                    Poor                    \n",
      "POP(Population)                                                   12                      12                      12                      \n",
      "PPV(Precision or positive predictive value)                       0.6                     0.5                     0.6                     \n",
      "PRE(Prevalence)                                                   0.25                    0.25                    0.5                     \n",
      "RACC(Random accuracy)                                             0.10417                 0.04167                 0.20833                 \n",
      "RACCU(Random accuracy unbiased)                                   0.11111                 0.0434                  0.21007                 \n",
      "TN(True negative/correct rejection)                               7                       8                       4                       \n",
      "TNR(Specificity or true negative rate)                            0.77778                 0.88889                 0.66667                 \n",
      "TON(Test outcome negative)                                        7                       10                      7                       \n",
      "TOP(Test outcome positive)                                        5                       2                       5                       \n",
      "TP(True positive/hit)                                             3                       1                       3                       \n",
      "TPR(Sensitivity, recall, hit rate, or true positive rate)         1.0                     0.33333                 0.5                     \n",
      "Y(Youden index)                                                   0.77778                 0.22222                 0.16667                 \n",
      "dInd(Distance index)                                              0.22222                 0.67586                 0.60093                 \n",
      "sInd(Similarity index)                                            0.84287                 0.52209                 0.57508                 \n",
      "\n"
     ]
    }
   ],
   "source": [
    "print(cm1)"
   ]
  },
  {
   "cell_type": "markdown",
   "metadata": {},
   "source": [
    "## With random weights"
   ]
  },
  {
   "cell_type": "code",
   "execution_count": 4,
   "metadata": {},
   "outputs": [],
   "source": [
    "from random import randint\n",
    "weights = [randint(1,10) for i in range(len(y_test))]\n",
    "weights[2]*=9"
   ]
  },
  {
   "cell_type": "code",
   "execution_count": 5,
   "metadata": {},
   "outputs": [
    {
     "data": {
      "text/plain": [
       "pycm.ConfusionMatrix(classes: [0, 1, 2])"
      ]
     },
     "execution_count": 5,
     "metadata": {},
     "output_type": "execute_result"
    }
   ],
   "source": [
    "cm2=ConfusionMatrix(y_test, y_pred, sample_weight = weights)\n",
    "cm2"
   ]
  },
  {
   "cell_type": "code",
   "execution_count": 6,
   "metadata": {},
   "outputs": [
    {
     "name": "stdout",
     "output_type": "stream",
     "text": [
      "Predict          0     1     2     \n",
      "Actual\n",
      "0                14    0     0     \n",
      "\n",
      "1                0     8     10    \n",
      "\n",
      "2                15    6     49    \n",
      "\n",
      "\n",
      "\n",
      "\n",
      "\n",
      "Overall Statistics : \n",
      "\n",
      "95% CI                                                            (0.60682,0.78534)\n",
      "AUNP                                                              0.72281\n",
      "AUNU                                                              0.76501\n",
      "Bennett S                                                         0.54412\n",
      "CBA                                                               0.5424\n",
      "Chi-Squared                                                       57.10132\n",
      "Chi-Squared DF                                                    4\n",
      "Conditional Entropy                                               0.9574\n",
      "Cramer V                                                          0.52906\n",
      "Cross Entropy                                                     1.29665\n",
      "Gwet AC1                                                          0.58619\n",
      "Hamming Loss                                                      0.30392\n",
      "Joint Entropy                                                     2.16501\n",
      "KL Divergence                                                     0.08904\n",
      "Kappa                                                             0.43697\n",
      "Kappa 95% CI                                                      (0.2716,0.60233)\n",
      "Kappa No Prevalence                                               0.39216\n",
      "Kappa Standard Error                                              0.08437\n",
      "Kappa Unbiased                                                    0.42774\n",
      "Lambda A                                                          0.0625\n",
      "Lambda B                                                          0.32558\n",
      "Mutual Information                                                0.40855\n",
      "NIR                                                               0.68627\n",
      "Overall ACC                                                       0.69608\n",
      "Overall CEN                                                       0.40215\n",
      "Overall J                                                         (1.42859,0.4762)\n",
      "Overall MCC                                                       0.45308\n",
      "Overall MCEN                                                      0.47949\n",
      "Overall RACC                                                      0.46021\n",
      "Overall RACCU                                                     0.46891\n",
      "P-Value                                                           0.46278\n",
      "PPV Macro                                                         0.62823\n",
      "PPV Micro                                                         0.69608\n",
      "Phi-Squared                                                       0.55982\n",
      "RCI                                                               0.33831\n",
      "RR                                                                34.0\n",
      "Reference Entropy                                                 1.20761\n",
      "Response Entropy                                                  1.36595\n",
      "SOA1(Landis & Koch)                                               Moderate\n",
      "SOA2(Fleiss)                                                      Intermediate to Good\n",
      "SOA3(Altman)                                                      Moderate\n",
      "SOA4(Cicchetti)                                                   Fair\n",
      "Scott PI                                                          0.42774\n",
      "Standard Error                                                    0.04554\n",
      "TPR Macro                                                         0.71481\n",
      "TPR Micro                                                         0.69608\n",
      "Zero-one Loss                                                     31\n",
      "\n",
      "Class Statistics :\n",
      "\n",
      "Classes                                                           0                       1                       2                       \n",
      "ACC(Accuracy)                                                     0.85294                 0.84314                 0.69608                 \n",
      "AM(Difference between automatic and manual classification)        15                      -4                      -11                     \n",
      "AUC(Area under the roc curve)                                     0.91477                 0.68651                 0.69375                 \n",
      "AUCI(Auc value interpretation)                                    Excellent               Fair                    Fair                    \n",
      "BM(Informedness or bookmaker informedness)                        0.82955                 0.37302                 0.3875                  \n",
      "CEN(Confusion entropy)                                            0.26501                 0.48861                 0.42642                 \n",
      "DOR(Diagnostic odds ratio)                                        None                    10.4                    5.13333                 \n",
      "DP(Discriminant power)                                            None                    0.56072                 0.39166                 \n",
      "DPI(Discriminant power interpretation)                            None                    Poor                    Poor                    \n",
      "ERR(Error rate)                                                   0.14706                 0.15686                 0.30392                 \n",
      "F0.5(F0.5 score)                                                  0.53846                 0.54054                 0.80065                 \n",
      "F1(F1 score - harmonic mean of precision and sensitivity)         0.65116                 0.5                     0.75969                 \n",
      "F2(F2 score)                                                      0.82353                 0.46512                 0.72271                 \n",
      "FDR(False discovery rate)                                         0.51724                 0.42857                 0.16949                 \n",
      "FN(False negative/miss/type 2 error)                              0                       10                      21                      \n",
      "FNR(Miss rate or false negative rate)                             0.0                     0.55556                 0.3                     \n",
      "FOR(False omission rate)                                          0.0                     0.11364                 0.48837                 \n",
      "FP(False positive/type 1 error/false alarm)                       15                      6                       10                      \n",
      "FPR(Fall-out or false positive rate)                              0.17045                 0.07143                 0.3125                  \n",
      "G(G-measure geometric mean of precision and sensitivity)          0.69481                 0.50395                 0.76247                 \n",
      "GI(Gini index)                                                    0.82955                 0.37302                 0.3875                  \n",
      "IS(Information score)                                             1.81444                 1.69515                 0.27521                 \n",
      "J(Jaccard index)                                                  0.48276                 0.33333                 0.6125                  \n",
      "LS(Lift score)                                                    3.51724                 3.2381                  1.21017                 \n",
      "MCC(Matthews correlation coefficient)                             0.63283                 0.41324                 0.36411                 \n",
      "MCEN(Modified confusion entropy)                                  0.24597                 0.51313                 0.55405                 \n",
      "MK(Markedness)                                                    0.48276                 0.45779                 0.34214                 \n",
      "N(Condition negative)                                             88                      84                      32                      \n",
      "NLR(Negative likelihood ratio)                                    0.0                     0.59829                 0.43636                 \n",
      "NPV(Negative predictive value)                                    1.0                     0.88636                 0.51163                 \n",
      "P(Condition positive or support)                                  14                      18                      70                      \n",
      "PLR(Positive likelihood ratio)                                    5.86667                 6.22222                 2.24                    \n",
      "PLRI(Positive likelihood ratio interpretation)                    Fair                    Fair                    Poor                    \n",
      "POP(Population)                                                   102                     102                     102                     \n",
      "PPV(Precision or positive predictive value)                       0.48276                 0.57143                 0.83051                 \n",
      "PRE(Prevalence)                                                   0.13725                 0.17647                 0.68627                 \n",
      "RACC(Random accuracy)                                             0.03902                 0.02422                 0.39696                 \n",
      "RACCU(Random accuracy unbiased)                                   0.04443                 0.02461                 0.39987                 \n",
      "TN(True negative/correct rejection)                               73                      78                      22                      \n",
      "TNR(Specificity or true negative rate)                            0.82955                 0.92857                 0.6875                  \n",
      "TON(Test outcome negative)                                        73                      88                      43                      \n",
      "TOP(Test outcome positive)                                        29                      14                      59                      \n",
      "TP(True positive/hit)                                             14                      8                       49                      \n",
      "TPR(Sensitivity, recall, hit rate, or true positive rate)         1.0                     0.44444                 0.7                     \n",
      "Y(Youden index)                                                   0.82955                 0.37302                 0.3875                  \n",
      "dInd(Distance index)                                              0.17045                 0.56013                 0.43319                 \n",
      "sInd(Similarity index)                                            0.87947                 0.60393                 0.69369                 \n",
      "\n"
     ]
    }
   ],
   "source": [
    "print(cm2)"
   ]
  }
 ],
 "metadata": {
  "kernelspec": {
   "display_name": "Python 3",
   "language": "python",
   "name": "python3"
  },
  "language_info": {
   "codemirror_mode": {
    "name": "ipython",
    "version": 3
   },
   "file_extension": ".py",
   "mimetype": "text/x-python",
   "name": "python",
   "nbconvert_exporter": "python",
   "pygments_lexer": "ipython3",
   "version": "3.5.2"
  }
 },
 "nbformat": 4,
 "nbformat_minor": 2
}
