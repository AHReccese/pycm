{
 "cells": [
  {
   "cell_type": "markdown",
   "metadata": {},
   "source": [
    "# Example-5 (Sample weights)"
   ]
  },
  {
   "cell_type": "markdown",
   "metadata": {},
   "source": [
    "## Without weights"
   ]
  },
  {
   "cell_type": "code",
   "execution_count": 1,
   "metadata": {},
   "outputs": [],
   "source": [
    "from pycm import ConfusionMatrix\n",
    "y_test = [2, 0, 2, 2, 0, 1, 1, 2, 2, 0, 1, 2]\n",
    "y_pred = [0, 0, 2, 1, 0, 2, 1, 0, 2, 0, 2, 2]"
   ]
  },
  {
   "cell_type": "code",
   "execution_count": 2,
   "metadata": {},
   "outputs": [
    {
     "data": {
      "text/plain": [
       "pycm.ConfusionMatrix(classes: [0, 1, 2])"
      ]
     },
     "execution_count": 2,
     "metadata": {},
     "output_type": "execute_result"
    }
   ],
   "source": [
    "cm1=ConfusionMatrix(y_test, y_pred)\n",
    "cm1"
   ]
  },
  {
   "cell_type": "code",
   "execution_count": 3,
   "metadata": {},
   "outputs": [
    {
     "name": "stdout",
     "output_type": "stream",
     "text": [
      "Predict          0    1    2    \n",
      "Actual\n",
      "0                3    0    0    \n",
      "\n",
      "1                0    1    2    \n",
      "\n",
      "2                2    1    3    \n",
      "\n",
      "\n",
      "\n",
      "\n",
      "\n",
      "Overall Statistics : \n",
      "\n",
      "95% CI                                                           (0.30439,0.86228)\n",
      "AUNP                                                             0.66667\n",
      "AUNU                                                             0.69444\n",
      "Bennett S                                                        0.375\n",
      "CBA                                                              0.47778\n",
      "Chi-Squared                                                      6.6\n",
      "Chi-Squared DF                                                   4\n",
      "Conditional Entropy                                              0.95915\n",
      "Cramer V                                                         0.5244\n",
      "Cross Entropy                                                    1.59352\n",
      "Gwet AC1                                                         0.38931\n",
      "Hamming Loss                                                     0.41667\n",
      "Joint Entropy                                                    2.45915\n",
      "KL Divergence                                                    0.09352\n",
      "Kappa                                                            0.35484\n",
      "Kappa 95% CI                                                     (-0.07708,0.78675)\n",
      "Kappa No Prevalence                                              0.16667\n",
      "Kappa Standard Error                                             0.22036\n",
      "Kappa Unbiased                                                   0.34426\n",
      "Lambda A                                                         0.16667\n",
      "Lambda B                                                         0.42857\n",
      "Mutual Information                                               0.52421\n",
      "NIR                                                              0.5\n",
      "Overall ACC                                                      0.58333\n",
      "Overall CEN                                                      0.46381\n",
      "Overall J                                                        (1.225,0.40833)\n",
      "Overall MCC                                                      0.36667\n",
      "Overall MCEN                                                     0.51894\n",
      "Overall RACC                                                     0.35417\n",
      "Overall RACCU                                                    0.36458\n",
      "P-Value                                                          0.38721\n",
      "PPV Macro                                                        0.56667\n",
      "PPV Micro                                                        0.58333\n",
      "Phi-Squared                                                      0.55\n",
      "RCI                                                              0.34947\n",
      "RR                                                               4.0\n",
      "Reference Entropy                                                1.5\n",
      "Response Entropy                                                 1.48336\n",
      "SOA1(Landis & Koch)                                              Fair\n",
      "SOA2(Fleiss)                                                     Poor\n",
      "SOA3(Altman)                                                     Fair\n",
      "SOA4(Cicchetti)                                                  Poor\n",
      "Scott PI                                                         0.34426\n",
      "Standard Error                                                   0.14232\n",
      "TPR Macro                                                        0.61111\n",
      "TPR Micro                                                        0.58333\n",
      "Zero-one Loss                                                    5\n",
      "\n",
      "Class Statistics :\n",
      "\n",
      "Classes                                                          0                       1                       2                       \n",
      "ACC(Accuracy)                                                    0.83333                 0.75                    0.58333                 \n",
      "AUC(Area under the roc curve)                                    0.88889                 0.61111                 0.58333                 \n",
      "AUCI(Auc value interpretation)                                   Very Good               Fair                    Poor                    \n",
      "BM(Informedness or bookmaker informedness)                       0.77778                 0.22222                 0.16667                 \n",
      "CEN(Confusion entropy)                                           0.25                    0.49658                 0.60442                 \n",
      "DOR(Diagnostic odds ratio)                                       None                    4.0                     2.0                     \n",
      "DP(Discriminant power)                                           None                    0.33193                 0.16597                 \n",
      "DPI(Discriminant power interpretation)                           None                    Poor                    Poor                    \n",
      "ERR(Error rate)                                                  0.16667                 0.25                    0.41667                 \n",
      "F0.5(F0.5 score)                                                 0.65217                 0.45455                 0.57692                 \n",
      "F1(F1 score - harmonic mean of precision and sensitivity)        0.75                    0.4                     0.54545                 \n",
      "F2(F2 score)                                                     0.88235                 0.35714                 0.51724                 \n",
      "FDR(False discovery rate)                                        0.4                     0.5                     0.4                     \n",
      "FN(False negative/miss/type 2 error)                             0                       2                       3                       \n",
      "FNR(Miss rate or false negative rate)                            0.0                     0.66667                 0.5                     \n",
      "FOR(False omission rate)                                         0.0                     0.2                     0.42857                 \n",
      "FP(False positive/type 1 error/false alarm)                      2                       1                       2                       \n",
      "FPR(Fall-out or false positive rate)                             0.22222                 0.11111                 0.33333                 \n",
      "G(G-measure geometric mean of precision and sensitivity)         0.7746                  0.40825                 0.54772                 \n",
      "IS(Information score)                                            1.26303                 1.0                     0.26303                 \n",
      "J(Jaccard index)                                                 0.6                     0.25                    0.375                   \n",
      "MCC(Matthews correlation coefficient)                            0.68313                 0.2582                  0.16903                 \n",
      "MCEN(Modified confusion entropy)                                 0.26439                 0.5                     0.6875                  \n",
      "MK(Markedness)                                                   0.6                     0.3                     0.17143                 \n",
      "N(Condition negative)                                            9                       9                       6                       \n",
      "NLR(Negative likelihood ratio)                                   0.0                     0.75                    0.75                    \n",
      "NPV(Negative predictive value)                                   1.0                     0.8                     0.57143                 \n",
      "P(Condition positive or support)                                 3                       3                       6                       \n",
      "PLR(Positive likelihood ratio)                                   4.5                     3.0                     1.5                     \n",
      "PLRI(Positive likelihood ratio interpretation)                   Poor                    Poor                    Poor                    \n",
      "POP(Population)                                                  12                      12                      12                      \n",
      "PPV(Precision or positive predictive value)                      0.6                     0.5                     0.6                     \n",
      "PRE(Prevalence)                                                  0.25                    0.25                    0.5                     \n",
      "RACC(Random accuracy)                                            0.10417                 0.04167                 0.20833                 \n",
      "RACCU(Random accuracy unbiased)                                  0.11111                 0.0434                  0.21007                 \n",
      "TN(True negative/correct rejection)                              7                       8                       4                       \n",
      "TNR(Specificity or true negative rate)                           0.77778                 0.88889                 0.66667                 \n",
      "TON(Test outcome negative)                                       7                       10                      7                       \n",
      "TOP(Test outcome positive)                                       5                       2                       5                       \n",
      "TP(True positive/hit)                                            3                       1                       3                       \n",
      "TPR(Sensitivity, recall, hit rate, or true positive rate)        1.0                     0.33333                 0.5                     \n",
      "Y(Youden index)                                                  0.77778                 0.22222                 0.16667                 \n",
      "dInd(Distance index)                                             0.22222                 0.67586                 0.60093                 \n",
      "sInd(Similarity index)                                           0.84287                 0.52209                 0.57508                 \n",
      "\n"
     ]
    }
   ],
   "source": [
    "print(cm1)"
   ]
  },
  {
   "cell_type": "markdown",
   "metadata": {},
   "source": [
    "## With random weights"
   ]
  },
  {
   "cell_type": "code",
   "execution_count": 4,
   "metadata": {},
   "outputs": [],
   "source": [
    "from random import randint\n",
    "weights = [randint(1,10) for i in range(len(y_test))]\n",
    "weights[2]*=9"
   ]
  },
  {
   "cell_type": "code",
   "execution_count": 5,
   "metadata": {},
   "outputs": [
    {
     "data": {
      "text/plain": [
       "pycm.ConfusionMatrix(classes: [0, 1, 2])"
      ]
     },
     "execution_count": 5,
     "metadata": {},
     "output_type": "execute_result"
    }
   ],
   "source": [
    "cm2=ConfusionMatrix(y_test, y_pred, sample_weight = weights)\n",
    "cm2"
   ]
  },
  {
   "cell_type": "code",
   "execution_count": 6,
   "metadata": {},
   "outputs": [
    {
     "name": "stdout",
     "output_type": "stream",
     "text": [
      "Predict          0     1     2     \n",
      "Actual\n",
      "0                10    0     0     \n",
      "\n",
      "1                0     5     11    \n",
      "\n",
      "2                15    8     37    \n",
      "\n",
      "\n",
      "\n",
      "\n",
      "\n",
      "Overall Statistics : \n",
      "\n",
      "95% CI                                                           (0.50132,0.70799)\n",
      "AUNP                                                             0.63263\n",
      "AUNU                                                             0.69907\n",
      "Bennett S                                                        0.40698\n",
      "CBA                                                              0.44306\n",
      "Chi-Squared                                                      33.12229\n",
      "Chi-Squared DF                                                   4\n",
      "Conditional Entropy                                              1.08601\n",
      "Cramer V                                                         0.43883\n",
      "Cross Entropy                                                    1.30134\n",
      "Gwet AC1                                                         0.45994\n",
      "Hamming Loss                                                     0.39535\n",
      "Joint Entropy                                                    2.26073\n",
      "KL Divergence                                                    0.12662\n",
      "Kappa                                                            0.27945\n",
      "Kappa 95% CI                                                     (0.09111,0.46778)\n",
      "Kappa No Prevalence                                              0.2093\n",
      "Kappa Standard Error                                             0.09609\n",
      "Kappa Unbiased                                                   0.26227\n",
      "Lambda A                                                         0.0\n",
      "Lambda B                                                         0.26316\n",
      "Mutual Information                                               0.31374\n",
      "NIR                                                              0.69767\n",
      "Overall ACC                                                      0.60465\n",
      "Overall CEN                                                      0.45812\n",
      "Overall J                                                        (1.12946,0.37649)\n",
      "Overall MCC                                                      0.29492\n",
      "Overall MCEN                                                     0.51896\n",
      "Overall RACC                                                     0.45133\n",
      "Overall RACCU                                                    0.4641\n",
      "P-Value                                                          0.9749\n",
      "PPV Macro                                                        0.51848\n",
      "PPV Micro                                                        0.60465\n",
      "Phi-Squared                                                      0.38514\n",
      "RCI                                                              0.26708\n",
      "RR                                                               28.66667\n",
      "Reference Entropy                                                1.17472\n",
      "Response Entropy                                                 1.39975\n",
      "SOA1(Landis & Koch)                                              Fair\n",
      "SOA2(Fleiss)                                                     Poor\n",
      "SOA3(Altman)                                                     Fair\n",
      "SOA4(Cicchetti)                                                  Poor\n",
      "Scott PI                                                         0.26227\n",
      "Standard Error                                                   0.05272\n",
      "TPR Macro                                                        0.64306\n",
      "TPR Micro                                                        0.60465\n",
      "Zero-one Loss                                                    34\n",
      "\n",
      "Class Statistics :\n",
      "\n",
      "Classes                                                          0                       1                       2                       \n",
      "ACC(Accuracy)                                                    0.82558                 0.77907                 0.60465                 \n",
      "AUC(Area under the roc curve)                                    0.90132                 0.59911                 0.59679                 \n",
      "AUCI(Auc value interpretation)                                   Excellent               Poor                    Poor                    \n",
      "BM(Informedness or bookmaker informedness)                       0.80263                 0.19821                 0.19359                 \n",
      "CEN(Confusion entropy)                                           0.26194                 0.52152                 0.50467                 \n",
      "DOR(Diagnostic odds ratio)                                       None                    3.52273                 2.19368                 \n",
      "DP(Discriminant power)                                           None                    0.30151                 0.1881                  \n",
      "DPI(Discriminant power interpretation)                           None                    Poor                    Poor                    \n",
      "ERR(Error rate)                                                  0.17442                 0.22093                 0.39535                 \n",
      "F0.5(F0.5 score)                                                 0.45455                 0.36765                 0.73413                 \n",
      "F1(F1 score - harmonic mean of precision and sensitivity)        0.57143                 0.34483                 0.68519                 \n",
      "F2(F2 score)                                                     0.76923                 0.32468                 0.64236                 \n",
      "FDR(False discovery rate)                                        0.6                     0.61538                 0.22917                 \n",
      "FN(False negative/miss/type 2 error)                             0                       11                      23                      \n",
      "FNR(Miss rate or false negative rate)                            0.0                     0.6875                  0.38333                 \n",
      "FOR(False omission rate)                                         0.0                     0.15068                 0.60526                 \n",
      "FP(False positive/type 1 error/false alarm)                      15                      8                       11                      \n",
      "FPR(Fall-out or false positive rate)                             0.19737                 0.11429                 0.42308                 \n",
      "G(G-measure geometric mean of precision and sensitivity)         0.63246                 0.34669                 0.68945                 \n",
      "IS(Information score)                                            1.78241                 1.04775                 0.14387                 \n",
      "J(Jaccard index)                                                 0.4                     0.20833                 0.52113                 \n",
      "MCC(Matthews correlation coefficient)                            0.56662                 0.21533                 0.17903                 \n",
      "MCEN(Modified confusion entropy)                                 0.22109                 0.52209                 0.62278                 \n",
      "MK(Markedness)                                                   0.4                     0.23393                 0.16557                 \n",
      "N(Condition negative)                                            76                      70                      26                      \n",
      "NLR(Negative likelihood ratio)                                   0.0                     0.77621                 0.66444                 \n",
      "NPV(Negative predictive value)                                   1.0                     0.84932                 0.39474                 \n",
      "P(Condition positive or support)                                 10                      16                      60                      \n",
      "PLR(Positive likelihood ratio)                                   5.06667                 2.73437                 1.45758                 \n",
      "PLRI(Positive likelihood ratio interpretation)                   Fair                    Poor                    Poor                    \n",
      "POP(Population)                                                  86                      86                      86                      \n",
      "PPV(Precision or positive predictive value)                      0.4                     0.38462                 0.77083                 \n",
      "PRE(Prevalence)                                                  0.11628                 0.18605                 0.69767                 \n",
      "RACC(Random accuracy)                                            0.0338                  0.02812                 0.3894                  \n",
      "RACCU(Random accuracy unbiased)                                  0.04141                 0.02843                 0.39427                 \n",
      "TN(True negative/correct rejection)                              61                      62                      15                      \n",
      "TNR(Specificity or true negative rate)                           0.80263                 0.88571                 0.57692                 \n",
      "TON(Test outcome negative)                                       61                      73                      38                      \n",
      "TOP(Test outcome positive)                                       25                      13                      48                      \n",
      "TP(True positive/hit)                                            10                      5                       37                      \n",
      "TPR(Sensitivity, recall, hit rate, or true positive rate)        1.0                     0.3125                  0.61667                 \n",
      "Y(Youden index)                                                  0.80263                 0.19821                 0.19359                 \n",
      "dInd(Distance index)                                             0.19737                 0.69693                 0.57091                 \n",
      "sInd(Similarity index)                                           0.86044                 0.50719                 0.59631                 \n",
      "\n"
     ]
    }
   ],
   "source": [
    "print(cm2)"
   ]
  }
 ],
 "metadata": {
  "kernelspec": {
   "display_name": "Python 3",
   "language": "python",
   "name": "python3"
  },
  "language_info": {
   "codemirror_mode": {
    "name": "ipython",
    "version": 3
   },
   "file_extension": ".py",
   "mimetype": "text/x-python",
   "name": "python",
   "nbconvert_exporter": "python",
   "pygments_lexer": "ipython3",
   "version": "3.5.2"
  }
 },
 "nbformat": 4,
 "nbformat_minor": 2
}
